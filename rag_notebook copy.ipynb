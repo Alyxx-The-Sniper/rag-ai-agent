{
 "cells": [
  {
   "cell_type": "markdown",
   "id": "48fc317a",
   "metadata": {},
   "source": [
    "## Marker"
   ]
  },
  {
   "cell_type": "code",
   "execution_count": 1,
   "id": "13f35b53",
   "metadata": {},
   "outputs": [
    {
     "name": "stderr",
     "output_type": "stream",
     "text": [
      "e:\\0_AI_2025\\railway\\rag_082025\\.venv\\Lib\\site-packages\\tqdm\\auto.py:21: TqdmWarning: IProgress not found. Please update jupyter and ipywidgets. See https://ipywidgets.readthedocs.io/en/stable/user_install.html\n",
      "  from .autonotebook import tqdm as notebook_tqdm\n"
     ]
    }
   ],
   "source": [
    "import os, glob, pathlib, json, time, re\n",
    "from typing import List, Dict, Any, Optional, TypedDict\n",
    "from langchain_openai import ChatOpenAI, OpenAIEmbeddings\n",
    "from langchain_community.chat_models import ChatDeepInfra\n",
    "import os\n",
    "from dotenv import load_dotenv\n",
    "load_dotenv()\n",
    "\n",
    "# LLMs\n",
    "GEN_MODEL = os.getenv('GEN_MODEL')\n",
    "EMBED_MODEL = os.getenv('EMBED_MODEL')\n",
    "DEEPINFRA_API_KEY = os.getenv('DEEPINFRA_API_KEY')\n",
    "\n",
    "llm_gen = ChatDeepInfra(\n",
    "    model=GEN_MODEL,              \n",
    "    temperature=0,\n",
    "    max_tokens=1024,\n",
    "    # streaming=True,              # optional\n",
    ")\n",
    "\n",
    "from langchain_community.embeddings import DeepInfraEmbeddings\n",
    "\n",
    "# for dense vectors (will create sparse vector later)\n",
    "embeddings = DeepInfraEmbeddings(\n",
    "    model_id=EMBED_MODEL,          \n",
    "    deepinfra_api_token=DEEPINFRA_API_KEY,\n",
    "    query_instruction=\"\",\n",
    "    embed_instruction=\"\",\n",
    "    normalize=True,                 # cosine similarity friendly\n",
    ")\n",
    "\n",
    "\n",
    "# Paths\n",
    "DATA_DIR = \"sample_documents/PDFs\"     # drop PDFs here\n",
    "TMP_DIR  = \"sample_documents/PDFs_parsed\"   # Marker markdown output\n",
    "pathlib.Path(DATA_DIR).mkdir(parents=True, exist_ok=True)\n",
    "pathlib.Path(TMP_DIR).mkdir(parents=True, exist_ok=True)\n",
    "\n",
    "\n",
    "## API's\n",
    "from dotenv import load_dotenv\n",
    "load_dotenv()\n",
    "\n",
    "openai_api_key = os.getenv(\"OPENAI_API_KEY\")\n",
    "pinecone_api_key = os.getenv(\"PINECONE_API_KEY\")\n",
    "cohere_api_key = os.getenv(\"COHERE_API_KEY\")\n",
    "\n",
    "\n",
    "# ============================================\n",
    "# PDF parsing with Marker -> Markdown\n",
    "# ============================================\n",
    "\n",
    "from marker.converters.pdf import PdfConverter\n",
    "from marker.models import create_model_dict\n",
    "from marker.output import text_from_rendered\n",
    "\n",
    "def marker_parse(pdf_path: str) -> str:\n",
    "    converter = PdfConverter(artifact_dict=create_model_dict())\n",
    "    rendered = converter(pdf_path)\n",
    "        \n",
    "    # 1. We will return the pure markdown only \n",
    "    # 2. The images in our sample documents (pdf) has no meaning so we will not include images in our return \n",
    "    # 3. In this specific example the metadata we have is almost useless for a RAG system\n",
    "    md, meta, images = text_from_rendered(rendered)\n",
    "    return md\n",
    "    \n",
    "\n",
    "def parse_folder_to_md(input_dir: str, out_dir: str) -> List[Dict[str, str]]:\n",
    "    out = []\n",
    "    for pdf in glob.glob(str(pathlib.Path(input_dir) / \"**/*.pdf\"), recursive=True):\n",
    "        md = marker_parse(pdf)\n",
    "        stem = pathlib.Path(pdf).stem\n",
    "        md_path = str(pathlib.Path(out_dir) / f\"{stem}.md\")\n",
    "        with open(md_path, \"w\", encoding=\"utf-8\") as f:\n",
    "            f.write(md)\n",
    "        out.append({\"source_pdf\": pdf, \"markdown_path\": md_path})\n",
    "    return out"
   ]
  },
  {
   "cell_type": "code",
   "execution_count": 2,
   "metadata": {},
   "outputs": [
    {
     "name": "stderr",
     "output_type": "stream",
     "text": [
      "Recognizing layout: 100%|██████████| 2/2 [00:23<00:00, 11.61s/it]\n",
      "Running OCR Error Detection: 100%|██████████| 3/3 [00:01<00:00,  1.65it/s]\n",
      "Detecting bboxes: 100%|██████████| 1/1 [00:03<00:00,  3.47s/it]\n",
      "Recognizing Text: 100%|██████████| 17/17 [01:26<00:00,  5.08s/it]\n",
      "Detecting bboxes: 0it [00:00, ?it/s]\n",
      "Recognizing layout: 100%|██████████| 2/2 [00:21<00:00, 10.89s/it]\n",
      "Running OCR Error Detection: 100%|██████████| 3/3 [00:01<00:00,  1.79it/s]\n",
      "Detecting bboxes: 100%|██████████| 1/1 [00:03<00:00,  3.28s/it]\n",
      "Recognizing Text: 100%|██████████| 17/17 [01:24<00:00,  4.97s/it]\n",
      "Detecting bboxes: 0it [00:00, ?it/s]\n"
     ]
    },
    {
     "name": "stdout",
     "output_type": "stream",
     "text": [
      "Parsed PDFs: 2\n"
     ]
    }
   ],
   "source": [
    "parsed = parse_folder_to_md(DATA_DIR, TMP_DIR)\n",
    "print(f\"Parsed PDFs: {len(parsed)}\")"
   ]
  },
  {
   "cell_type": "code",
   "execution_count": 3,
   "id": "c1ca4db8",
   "metadata": {},
   "outputs": [
    {
     "data": {
      "text/plain": [
       "[{'source_pdf': 'sample_documents\\\\PDFs\\\\Philippines Flood Control Corruption_39767746-b609-45a8-84de-d600f8ba3cff.pdf',\n",
       "  'markdown_path': 'sample_documents\\\\PDFs_parsed\\\\Philippines Flood Control Corruption_39767746-b609-45a8-84de-d600f8ba3cff.md'},\n",
       " {'source_pdf': 'sample_documents\\\\PDFs\\\\Philippines Flood Control Corruption_46371b3e-e694-4017-95fa-e3f689803067.pdf',\n",
       "  'markdown_path': 'sample_documents\\\\PDFs_parsed\\\\Philippines Flood Control Corruption_46371b3e-e694-4017-95fa-e3f689803067.md'}]"
      ]
     },
     "execution_count": 3,
     "metadata": {},
     "output_type": "execute_result"
    }
   ],
   "source": [
    "# preview (list of dict)\n",
    "parsed"
   ]
  },
  {
   "cell_type": "markdown",
   "id": "251546ea",
   "metadata": {},
   "source": [
    "## Transform to Langchain Documents Structure"
   ]
  },
  {
   "cell_type": "code",
   "execution_count": 4,
   "id": "a4329c5f",
   "metadata": {},
   "outputs": [
    {
     "data": {
      "text/plain": [
       "[Document(metadata={'source': 'sample_documents\\\\PDFs\\\\Philippines Flood Control Corruption_39767746-b609-45a8-84de-d600f8ba3cff.pdf', 'md': 'sample_documents\\\\PDFs_parsed\\\\Philippines Flood Control Corruption_39767746-b609-45a8-84de-d600f8ba3cff.md'}, page_content='# **Philippines Flood Control Corruptio[n](https://medium.com/plans?dimension=post_audio_button&postId=3e3ce980dfa0&source=upgrade_membership---post_audio_button-----------------------------------------)**\\n\\nMany Filipinos are not deeply familiar with the law, and as a result, many simply speculate based on whatever information is fed to them. But what is the truth behind all the Senate and House investigations that are showcased in public? These two chambers often have different views and, at times, conflicting interests.\\n\\nThis article only reflects my point of view. My goal is to explain what is happening and why.\\n\\n### **The Discaya Revelations**\\n\\n**On September 1, 2025,** the first Blue Ribbon hearing ended with several contractors refusing to reveal what they knew — who was the most guilty, who the mastermind was. Was it the contractors themselves? The DPWH? Were senators or members of Congress involved?\\n\\nAmong them were Ms. Discaya and\\n\\n*Wawao Builders\\' Mr. Arevalo — who said, \"I invoke my right against self-incrimination\" — couldn\\'t face the senators .\".*\\n\\nThe Senate Blue Ribbon Committee announced that anyone who testifies under oath to reveal their knowledge of the corruption may be considered for application as a state witness, in order to protect them.\\n\\nOn **September 8, 2025**, during the second hearing, the Discayas publicly revealed what they claimed was personal knowledge of corruption and possible masterminds behind flood control projects. In exchange, they sought to be considered as **state witnesses**. They named high-profile figures, including **House Representative Zaldy Co** and **House Speaker Martin Romualdez**.\\n\\n#### *Mr. Discaya declared:*\\n\\n\"Mas gugustuhin namin maging kaaway ang mga taong pinangalanan namin kaysa sa 120k na Pilipino.\"\\n\\nHe also mentioned that he feared for his family\\'s safety.\\n\\nMentioning such names could endanger their lives, which is why they applied for state witness status. However, **being a state witness does not mean one is automatically \"forgiven.**\" Philippine law — Rule 119, Section 17 of the Rules of Court and RA 6981 (Witness Protection, Security, and Benefit Act) — sets strict requirements:\\n\\n- A state witness **must not be the most guilty**.\\n- Their testimony must be indispensable in proving the case.\\n- They must be formally discharged as an accused by the court and, if accepted, may be placed under **Witness Protection**, which provides security and benefits.\\n\\nThus, it is the **DOJ**, not the Senate, that decides on their acceptance. **It does not erase all liability** — it only provides immunity in the specific case where they testify.\\n\\nSenator **Ronald \"Bato\" Dela Rosa** even suggested that the Discayas use a bulletproof vehicle until their state witness application is resolved.\\n\\nHowever, that same evening, Senate leadership shifted. **Senator Vicente \"Tito\" Sotto III** was elected Senate President following the controversy. Soon after, the Discayas\\' application for state witness status was **rejected**. Press enter or click to view image in full size\\n\\n## STATEMENT OF SENATE PRESIDENT VICENTE SOTTO III\\n\\nHindi naman puwedeng makakuha sila ng proteksyon ng gobyerno pero ang dami nilang nakuhang pera ng bayan. Unfair sa mga kababayan natin \\'yon.\\n\\nAng kailangan para maging state witness ka, ibalik mo ang ninakaw mo, magsabi ka ng totoo. Iba ang sinabi sa Senado, iba ang sinabi sa House.\\n\\nSabi nga ni Mayor Vico Sotto, sinungaling sila. Hindi gano\\'n kadali ang hiling nila.\\n\\nSeptember 10, 2025\\n\\n![](_page_3_Picture_5.jpeg)\\n\\nRead more on www.gmanetwork.com/news\\n\\nUnder **Rule 119, Section 17 of the Rules of Court**, and **Republic Act №6981** (Witness Protection, Security, and Benefit Act) blah blah blah!!\\n\\nThere is no such rule that says *\\'ibalik muna\\'*. This makes me think that Sotto is incapable of making such decision. Don\\'t worry — the money and assets will surely be recovered by the government, It is mandatory not a requirements.\\n\\nIt is also crucial to understand that entry into the Witness Protection Program is not a pardon. Its sole purpose is to protect individuals from the syndicate they have exposed; without such protection, contractors would be unlikely to come forward. After the trial, the court will still render a final judgment on any offenses. While cooperation may result in reduced penalties, that decision rests entirely with the justice system.\\n\\nFollowing the event **Hon. Rodante Marcoleta was forced to step down as chairman of the Blue Ribbon Committee**. He questioned the new Senate President, warning that the handling of contractors and the state witness program could be compromised raising doubts about the Senate\\'s integrity. With this turn of events, will the remaining contractors still have the courage to speak up?\\n\\n### **The Brice Hernandez Case**\\n\\nFollowing the Senate hearing, House Speaker **Romualdez** asked the new Senate President, **Sotto**, to turn over **Brice Hernandez** to Congress for their own investigation.\\n\\nIn Congress, Brice Hernandez escalated matters by claiming that even senators, specifically **Jinggoy Estrada** and **Joel Villanueva** , were involved in the corruption scheme.\\n\\n*Brice Hernadez said: \"Akala niya ligtas na sya\" to Senator Jinggoy Estrada*\\n\\nHe also said his life would be in danger if he remained under Senate custody.\\n\\nPublic opinion was divided: some believed Hernandez\\'s claims, while others saw them as a script planted by Congress.\\n\\nLater, Congress Chairman **Ridon** suggested considering Hernandez as a state witness. (Despite his questionable record and alleged misuse of millions in taxpayers\\' money through gambling. )\\n\\n**Hon. Marculeta** and Senator **Bato Dela Rosa** questioned Senate President Sotto\\'s actions regarding handling Hernandez to the congress without notifying the Senate team,\\n\\n*explaining that in past events, Congress had detained suspects in contempt and allegedly planted evidence or scripted testimonies in exchange for favors.*\\n\\nFor this reason, they decided to place Hernandez in **jail**, rather than in Senate or House custody.\\n\\nOn **September 10, 2025**, **Mr. Brice Hernandez** was officially jailed, not placed under the custody of either the Senate or Congress. His detention drew public sympathy and debate. Many questioned why he was behind bars while his superior, **Mr. Alcantara**, was not.\\n\\nThe difference, as explained in hearings, was that **Alcantara cooperated and admitted some liability**, while Hernandez faced **strong evidence of unexplained wealth** — luxury cars, motorcycles, and millions of pesos allegedly **spent on casino gambling**. The Senate Blue Ribbon Committee **presented photos from casinos showing Hernandez using fake LTO IDs**.\\n\\n*When pressed by Senator Jinggoy Estrada, who warned:*\\n\\n*\"Give me a good reason why I should not cite you in contempt. Because if your reason is unacceptable to all of us here, we will be forced to cite you in contempt\"*\\n\\n### **— This is during the Senate hearing held prior to the Congress hearing —** Hernandez gave weak responses, denied the evidence presented, and failed to provide a valid explanation. As a result, he was cited in contempt of the Senate.\\n\\n**Important clarification:** Being cited in contempt is **not a criminal conviction**. It only means the Senate can detain a witness for refusing to cooperate or obstructing proceedings. Any actual criminal liability will still be decided by the **DOJ and the courts** after a full investigation.\\n\\nThe primary purpose of citing someone in contempt is to **compel them to testify, produce documents, or behave properly during a hearin**g. It is a **coercive tool, not a punitive one in the criminal sens**e.\\n\\nNow, Congress appears to be targeting Senators **Jinggoy Estrada** and **Joel Villanueva**. In my view, this move could be politically motivated: if Estrada and Villanueva are weakened or removed, the **Senate minority bloc loses strength**, thereby consolidating the power of the new Senate President, **Tito Sotto**. ++++++ END ++++++\\n\\nThis is my opinion only as of September 12, 2025. Let\\'s see what will happen next.\\n\\nFeel free to comment and share your views too.'),\n",
       " Document(metadata={'source': 'sample_documents\\\\PDFs\\\\Philippines Flood Control Corruption_46371b3e-e694-4017-95fa-e3f689803067.pdf', 'md': 'sample_documents\\\\PDFs_parsed\\\\Philippines Flood Control Corruption_46371b3e-e694-4017-95fa-e3f689803067.md'}, page_content='# **Philippines Flood Control Corruptio[n](https://medium.com/plans?dimension=post_audio_button&postId=3e3ce980dfa0&source=upgrade_membership---post_audio_button-----------------------------------------)**\\n\\nMany Filipinos are not deeply familiar with the law, and as a result, many simply speculate based on whatever information is fed to them. But what is the truth behind all the Senate and House investigations that are showcased in public? These two chambers often have different views and, at times, conflicting interests.\\n\\nThis article only reflects my point of view. My goal is to explain what is happening and why.\\n\\n### **The Discaya Revelations**\\n\\n**On September 1, 2025,** the first Blue Ribbon hearing ended with several contractors refusing to reveal what they knew — who was the most guilty, who the mastermind was. Was it the contractors themselves? The DPWH? Were senators or members of Congress involved?\\n\\nAmong them were Ms. Discaya and\\n\\n*Wawao Builders\\' Mr. Arevalo — who said, \"I invoke my right against self-incrimination\" — couldn\\'t face the senators .\".*\\n\\nThe Senate Blue Ribbon Committee announced that anyone who testifies under oath to reveal their knowledge of the corruption may be considered for application as a state witness, in order to protect them.\\n\\nOn **September 8, 2025**, during the second hearing, the Discayas publicly revealed what they claimed was personal knowledge of corruption and possible masterminds behind flood control projects. In exchange, they sought to be considered as **state witnesses**. They named high-profile figures, including **House Representative Zaldy Co** and **House Speaker Martin Romualdez**.\\n\\n#### *Mr. Discaya declared:*\\n\\n\"Mas gugustuhin namin maging kaaway ang mga taong pinangalanan namin kaysa sa 120k na Pilipino.\"\\n\\nHe also mentioned that he feared for his family\\'s safety.\\n\\nMentioning such names could endanger their lives, which is why they applied for state witness status. However, **being a state witness does not mean one is automatically \"forgiven.**\" Philippine law — Rule 119, Section 17 of the Rules of Court and RA 6981 (Witness Protection, Security, and Benefit Act) — sets strict requirements:\\n\\n- A state witness **must not be the most guilty**.\\n- Their testimony must be indispensable in proving the case.\\n- They must be formally discharged as an accused by the court and, if accepted, may be placed under **Witness Protection**, which provides security and benefits.\\n\\nThus, it is the **DOJ**, not the Senate, that decides on their acceptance. **It does not erase all liability** — it only provides immunity in the specific case where they testify.\\n\\nSenator **Ronald \"Bato\" Dela Rosa** even suggested that the Discayas use a bulletproof vehicle until their state witness application is resolved.\\n\\nHowever, that same evening, Senate leadership shifted. **Senator Vicente \"Tito\" Sotto III** was elected Senate President following the controversy. Soon after, the Discayas\\' application for state witness status was **rejected**. Press enter or click to view image in full size\\n\\n## STATEMENT OF SENATE PRESIDENT VICENTE SOTTO III\\n\\nHindi naman puwedeng makakuha sila ng proteksyon ng gobyerno pero ang dami nilang nakuhang pera ng bayan. Unfair sa mga kababayan natin \\'yon.\\n\\nAng kailangan para maging state witness ka, ibalik mo ang ninakaw mo, magsabi ka ng totoo. Iba ang sinabi sa Senado, iba ang sinabi sa House.\\n\\nSabi nga ni Mayor Vico Sotto, sinungaling sila. Hindi gano\\'n kadali ang hiling nila.\\n\\nSeptember 10, 2025\\n\\n![](_page_3_Picture_5.jpeg)\\n\\nRead more on www.gmanetwork.com/news\\n\\nUnder **Rule 119, Section 17 of the Rules of Court**, and **Republic Act №6981** (Witness Protection, Security, and Benefit Act) blah blah blah!!\\n\\nThere is no such rule that says *\\'ibalik muna\\'*. This makes me think that Sotto is incapable of making such decision. Don\\'t worry — the money and assets will surely be recovered by the government, It is mandatory not a requirements.\\n\\nIt is also crucial to understand that entry into the Witness Protection Program is not a pardon. Its sole purpose is to protect individuals from the syndicate they have exposed; without such protection, contractors would be unlikely to come forward. After the trial, the court will still render a final judgment on any offenses. While cooperation may result in reduced penalties, that decision rests entirely with the justice system.\\n\\nFollowing the event **Hon. Rodante Marcoleta was forced to step down as chairman of the Blue Ribbon Committee**. He questioned the new Senate President, warning that the handling of contractors and the state witness program could be compromised raising doubts about the Senate\\'s integrity. With this turn of events, will the remaining contractors still have the courage to speak up?\\n\\n### **The Brice Hernandez Case**\\n\\nFollowing the Senate hearing, House Speaker **Romualdez** asked the new Senate President, **Sotto**, to turn over **Brice Hernandez** to Congress for their own investigation.\\n\\nIn Congress, Brice Hernandez escalated matters by claiming that even senators, specifically **Jinggoy Estrada** and **Joel Villanueva** , were involved in the corruption scheme.\\n\\n*Brice Hernadez said: \"Akala niya ligtas na sya\" to Senator Jinggoy Estrada*\\n\\nHe also said his life would be in danger if he remained under Senate custody.\\n\\nPublic opinion was divided: some believed Hernandez\\'s claims, while others saw them as a script planted by Congress.\\n\\nLater, Congress Chairman **Ridon** suggested considering Hernandez as a state witness. (Despite his questionable record and alleged misuse of millions in taxpayers\\' money through gambling. )\\n\\n**Hon. Marculeta** and Senator **Bato Dela Rosa** questioned Senate President Sotto\\'s actions regarding handling Hernandez to the congress without notifying the Senate team,\\n\\n*explaining that in past events, Congress had detained suspects in contempt and allegedly planted evidence or scripted testimonies in exchange for favors.*\\n\\nFor this reason, they decided to place Hernandez in **jail**, rather than in Senate or House custody.\\n\\nOn **September 10, 2025**, **Mr. Brice Hernandez** was officially jailed, not placed under the custody of either the Senate or Congress. His detention drew public sympathy and debate. Many questioned why he was behind bars while his superior, **Mr. Alcantara**, was not.\\n\\nThe difference, as explained in hearings, was that **Alcantara cooperated and admitted some liability**, while Hernandez faced **strong evidence of unexplained wealth** — luxury cars, motorcycles, and millions of pesos allegedly **spent on casino gambling**. The Senate Blue Ribbon Committee **presented photos from casinos showing Hernandez using fake LTO IDs**.\\n\\n*When pressed by Senator Jinggoy Estrada, who warned:*\\n\\n*\"Give me a good reason why I should not cite you in contempt. Because if your reason is unacceptable to all of us here, we will be forced to cite you in contempt\"*\\n\\n### **— This is during the Senate hearing held prior to the Congress hearing —** Hernandez gave weak responses, denied the evidence presented, and failed to provide a valid explanation. As a result, he was cited in contempt of the Senate.\\n\\n**Important clarification:** Being cited in contempt is **not a criminal conviction**. It only means the Senate can detain a witness for refusing to cooperate or obstructing proceedings. Any actual criminal liability will still be decided by the **DOJ and the courts** after a full investigation.\\n\\nThe primary purpose of citing someone in contempt is to **compel them to testify, produce documents, or behave properly during a hearin**g. It is a **coercive tool, not a punitive one in the criminal sens**e.\\n\\nNow, Congress appears to be targeting Senators **Jinggoy Estrada** and **Joel Villanueva**. In my view, this move could be politically motivated: if Estrada and Villanueva are weakened or removed, the **Senate minority bloc loses strength**, thereby consolidating the power of the new Senate President, **Tito Sotto**. ++++++ END ++++++\\n\\nThis is my opinion only as of September 12, 2025. Let\\'s see what will happen next.\\n\\nFeel free to comment and share your views too.')]"
      ]
     },
     "execution_count": 4,
     "metadata": {},
     "output_type": "execute_result"
    }
   ],
   "source": [
    "# ============================================\n",
    "# Build Documents \n",
    "# ============================================\n",
    "from langchain_core.documents import Document\n",
    "\n",
    "# list of documents (wraped in langchain Document)\n",
    "docs: List[Document] = []\n",
    "\n",
    "# Read the Markdown file\n",
    "for item in parsed:\n",
    "    with open(item[\"markdown_path\"], \"r\", encoding=\"utf-8\") as f:\n",
    "        text = f.read()\n",
    "\n",
    "    docs.append(Document(page_content=text, \n",
    "                         metadata={\"source\": item[\"source_pdf\"], \"md\": item[\"markdown_path\"]}))\n",
    "    \n",
    "\n",
    "# preview\n",
    "docs"
   ]
  },
  {
   "cell_type": "markdown",
   "id": "fac6933b",
   "metadata": {},
   "source": [
    "## Chunking\n",
    "Chunking means breaking a document into smaller parts before creating embeddings, so the system can search and understand them better."
   ]
  },
  {
   "cell_type": "markdown",
   "id": "d26ce8be",
   "metadata": {},
   "source": [
    "### Langchain RecursiveCharacterTextSplitter\n",
    "> This is my preffered chunking based on our document structure"
   ]
  },
  {
   "cell_type": "code",
   "execution_count": 5,
   "id": "7715f3a5",
   "metadata": {},
   "outputs": [],
   "source": [
    "import tiktoken\n",
    "from langchain_text_splitters import RecursiveCharacterTextSplitter\n",
    "\n",
    "encoding = tiktoken.get_encoding(\"cl100k_base\")\n",
    "\n",
    "splitter = RecursiveCharacterTextSplitter.from_tiktoken_encoder(\n",
    "    encoding_name=encoding.name,  \n",
    "    chunk_size=400,\n",
    "    chunk_overlap=0,\n",
    "    separators=[\n",
    "        \"\\n```\",                    # keep fenced code blocks intact\n",
    "        \"\\n# \",                     # H1\n",
    "        \"\\n## \",                    # H2\n",
    "        \"\\n### \",                   # H3\n",
    "        \"\\n#### \",                  # H4\n",
    "    \n",
    "        \"\\n\\n\",                     # paragraphs\n",
    "        \"\\n- \", \"\\n* \", \"\\n1. \",    # lists\n",
    "        \"\\n|\",                      # table row starts (helps keep rows together)\n",
    "        \"\\n\",                       # line breaks\n",
    "        \". \",                       # sentence-ish\n",
    "        \" \",\n",
    "        \"\"\n",
    "    ],\n",
    ")"
   ]
  },
  {
   "cell_type": "code",
   "execution_count": 6,
   "id": "0b75b809",
   "metadata": {},
   "outputs": [
    {
     "name": "stdout",
     "output_type": "stream",
     "text": [
      "Total chunks: 16\n"
     ]
    },
    {
     "data": {
      "text/plain": [
       "[Document(metadata={'source': 'sample_documents\\\\PDFs\\\\Philippines Flood Control Corruption_39767746-b609-45a8-84de-d600f8ba3cff.pdf', 'md': 'sample_documents\\\\PDFs_parsed\\\\Philippines Flood Control Corruption_39767746-b609-45a8-84de-d600f8ba3cff.md'}, page_content='# **Philippines Flood Control Corruptio[n](https://medium.com/plans?dimension=post_audio_button&postId=3e3ce980dfa0&source=upgrade_membership---post_audio_button-----------------------------------------)**\\n\\nMany Filipinos are not deeply familiar with the law, and as a result, many simply speculate based on whatever information is fed to them. But what is the truth behind all the Senate and House investigations that are showcased in public? These two chambers often have different views and, at times, conflicting interests.\\n\\nThis article only reflects my point of view. My goal is to explain what is happening and why.'),\n",
       " Document(metadata={'source': 'sample_documents\\\\PDFs\\\\Philippines Flood Control Corruption_39767746-b609-45a8-84de-d600f8ba3cff.pdf', 'md': 'sample_documents\\\\PDFs_parsed\\\\Philippines Flood Control Corruption_39767746-b609-45a8-84de-d600f8ba3cff.md'}, page_content='### **The Discaya Revelations**\\n\\n**On September 1, 2025,** the first Blue Ribbon hearing ended with several contractors refusing to reveal what they knew — who was the most guilty, who the mastermind was. Was it the contractors themselves? The DPWH? Were senators or members of Congress involved?\\n\\nAmong them were Ms. Discaya and\\n\\n*Wawao Builders\\' Mr. Arevalo — who said, \"I invoke my right against self-incrimination\" — couldn\\'t face the senators .\".*\\n\\nThe Senate Blue Ribbon Committee announced that anyone who testifies under oath to reveal their knowledge of the corruption may be considered for application as a state witness, in order to protect them.\\n\\nOn **September 8, 2025**, during the second hearing, the Discayas publicly revealed what they claimed was personal knowledge of corruption and possible masterminds behind flood control projects. In exchange, they sought to be considered as **state witnesses**. They named high-profile figures, including **House Representative Zaldy Co** and **House Speaker Martin Romualdez**.'),\n",
       " Document(metadata={'source': 'sample_documents\\\\PDFs\\\\Philippines Flood Control Corruption_39767746-b609-45a8-84de-d600f8ba3cff.pdf', 'md': 'sample_documents\\\\PDFs_parsed\\\\Philippines Flood Control Corruption_39767746-b609-45a8-84de-d600f8ba3cff.md'}, page_content='#### *Mr. Discaya declared:*\\n\\n\"Mas gugustuhin namin maging kaaway ang mga taong pinangalanan namin kaysa sa 120k na Pilipino.\"\\n\\nHe also mentioned that he feared for his family\\'s safety.\\n\\nMentioning such names could endanger their lives, which is why they applied for state witness status. However, **being a state witness does not mean one is automatically \"forgiven.**\" Philippine law — Rule 119, Section 17 of the Rules of Court and RA 6981 (Witness Protection, Security, and Benefit Act) — sets strict requirements:\\n\\n- A state witness **must not be the most guilty**.\\n- Their testimony must be indispensable in proving the case.\\n- They must be formally discharged as an accused by the court and, if accepted, may be placed under **Witness Protection**, which provides security and benefits.\\n\\nThus, it is the **DOJ**, not the Senate, that decides on their acceptance. **It does not erase all liability** — it only provides immunity in the specific case where they testify.\\n\\nSenator **Ronald \"Bato\" Dela Rosa** even suggested that the Discayas use a bulletproof vehicle until their state witness application is resolved.\\n\\nHowever, that same evening, Senate leadership shifted. **Senator Vicente \"Tito\" Sotto III** was elected Senate President following the controversy. Soon after, the Discayas\\' application for state witness status was **rejected**. Press enter or click to view image in full size'),\n",
       " Document(metadata={'source': 'sample_documents\\\\PDFs\\\\Philippines Flood Control Corruption_39767746-b609-45a8-84de-d600f8ba3cff.pdf', 'md': 'sample_documents\\\\PDFs_parsed\\\\Philippines Flood Control Corruption_39767746-b609-45a8-84de-d600f8ba3cff.md'}, page_content=\"## STATEMENT OF SENATE PRESIDENT VICENTE SOTTO III\\n\\nHindi naman puwedeng makakuha sila ng proteksyon ng gobyerno pero ang dami nilang nakuhang pera ng bayan. Unfair sa mga kababayan natin 'yon.\\n\\nAng kailangan para maging state witness ka, ibalik mo ang ninakaw mo, magsabi ka ng totoo. Iba ang sinabi sa Senado, iba ang sinabi sa House.\\n\\nSabi nga ni Mayor Vico Sotto, sinungaling sila. Hindi gano'n kadali ang hiling nila.\\n\\nSeptember 10, 2025\\n\\n![](_page_3_Picture_5.jpeg)\\n\\nRead more on www.gmanetwork.com/news\\n\\nUnder **Rule 119, Section 17 of the Rules of Court**, and **Republic Act №6981** (Witness Protection, Security, and Benefit Act) blah blah blah!!\\n\\nThere is no such rule that says *'ibalik muna'*. This makes me think that Sotto is incapable of making such decision. Don't worry — the money and assets will surely be recovered by the government, It is mandatory not a requirements.\\n\\nIt is also crucial to understand that entry into the Witness Protection Program is not a pardon. Its sole purpose is to protect individuals from the syndicate they have exposed; without such protection, contractors would be unlikely to come forward. After the trial, the court will still render a final judgment on any offenses. While cooperation may result in reduced penalties, that decision rests entirely with the justice system.\"),\n",
       " Document(metadata={'source': 'sample_documents\\\\PDFs\\\\Philippines Flood Control Corruption_39767746-b609-45a8-84de-d600f8ba3cff.pdf', 'md': 'sample_documents\\\\PDFs_parsed\\\\Philippines Flood Control Corruption_39767746-b609-45a8-84de-d600f8ba3cff.md'}, page_content=\"Following the event **Hon. Rodante Marcoleta was forced to step down as chairman of the Blue Ribbon Committee**. He questioned the new Senate President, warning that the handling of contractors and the state witness program could be compromised raising doubts about the Senate's integrity. With this turn of events, will the remaining contractors still have the courage to speak up?\"),\n",
       " Document(metadata={'source': 'sample_documents\\\\PDFs\\\\Philippines Flood Control Corruption_39767746-b609-45a8-84de-d600f8ba3cff.pdf', 'md': 'sample_documents\\\\PDFs_parsed\\\\Philippines Flood Control Corruption_39767746-b609-45a8-84de-d600f8ba3cff.md'}, page_content='### **The Brice Hernandez Case**\\n\\nFollowing the Senate hearing, House Speaker **Romualdez** asked the new Senate President, **Sotto**, to turn over **Brice Hernandez** to Congress for their own investigation.\\n\\nIn Congress, Brice Hernandez escalated matters by claiming that even senators, specifically **Jinggoy Estrada** and **Joel Villanueva** , were involved in the corruption scheme.\\n\\n*Brice Hernadez said: \"Akala niya ligtas na sya\" to Senator Jinggoy Estrada*\\n\\nHe also said his life would be in danger if he remained under Senate custody.\\n\\nPublic opinion was divided: some believed Hernandez\\'s claims, while others saw them as a script planted by Congress.\\n\\nLater, Congress Chairman **Ridon** suggested considering Hernandez as a state witness. (Despite his questionable record and alleged misuse of millions in taxpayers\\' money through gambling. )\\n\\n**Hon. Marculeta** and Senator **Bato Dela Rosa** questioned Senate President Sotto\\'s actions regarding handling Hernandez to the congress without notifying the Senate team,\\n\\n*explaining that in past events, Congress had detained suspects in contempt and allegedly planted evidence or scripted testimonies in exchange for favors.*\\n\\nFor this reason, they decided to place Hernandez in **jail**, rather than in Senate or House custody.\\n\\nOn **September 10, 2025**, **Mr. Brice Hernandez** was officially jailed, not placed under the custody of either the Senate or Congress. His detention drew public sympathy and debate. Many questioned why he was behind bars while his superior, **Mr. Alcantara**, was not.'),\n",
       " Document(metadata={'source': 'sample_documents\\\\PDFs\\\\Philippines Flood Control Corruption_39767746-b609-45a8-84de-d600f8ba3cff.pdf', 'md': 'sample_documents\\\\PDFs_parsed\\\\Philippines Flood Control Corruption_39767746-b609-45a8-84de-d600f8ba3cff.md'}, page_content='The difference, as explained in hearings, was that **Alcantara cooperated and admitted some liability**, while Hernandez faced **strong evidence of unexplained wealth** — luxury cars, motorcycles, and millions of pesos allegedly **spent on casino gambling**. The Senate Blue Ribbon Committee **presented photos from casinos showing Hernandez using fake LTO IDs**.\\n\\n*When pressed by Senator Jinggoy Estrada, who warned:*\\n\\n*\"Give me a good reason why I should not cite you in contempt. Because if your reason is unacceptable to all of us here, we will be forced to cite you in contempt\"*'),\n",
       " Document(metadata={'source': 'sample_documents\\\\PDFs\\\\Philippines Flood Control Corruption_39767746-b609-45a8-84de-d600f8ba3cff.pdf', 'md': 'sample_documents\\\\PDFs_parsed\\\\Philippines Flood Control Corruption_39767746-b609-45a8-84de-d600f8ba3cff.md'}, page_content=\"### **— This is during the Senate hearing held prior to the Congress hearing —** Hernandez gave weak responses, denied the evidence presented, and failed to provide a valid explanation. As a result, he was cited in contempt of the Senate.\\n\\n**Important clarification:** Being cited in contempt is **not a criminal conviction**. It only means the Senate can detain a witness for refusing to cooperate or obstructing proceedings. Any actual criminal liability will still be decided by the **DOJ and the courts** after a full investigation.\\n\\nThe primary purpose of citing someone in contempt is to **compel them to testify, produce documents, or behave properly during a hearin**g. It is a **coercive tool, not a punitive one in the criminal sens**e.\\n\\nNow, Congress appears to be targeting Senators **Jinggoy Estrada** and **Joel Villanueva**. In my view, this move could be politically motivated: if Estrada and Villanueva are weakened or removed, the **Senate minority bloc loses strength**, thereby consolidating the power of the new Senate President, **Tito Sotto**. ++++++ END ++++++\\n\\nThis is my opinion only as of September 12, 2025. Let's see what will happen next.\\n\\nFeel free to comment and share your views too.\"),\n",
       " Document(metadata={'source': 'sample_documents\\\\PDFs\\\\Philippines Flood Control Corruption_46371b3e-e694-4017-95fa-e3f689803067.pdf', 'md': 'sample_documents\\\\PDFs_parsed\\\\Philippines Flood Control Corruption_46371b3e-e694-4017-95fa-e3f689803067.md'}, page_content='# **Philippines Flood Control Corruptio[n](https://medium.com/plans?dimension=post_audio_button&postId=3e3ce980dfa0&source=upgrade_membership---post_audio_button-----------------------------------------)**\\n\\nMany Filipinos are not deeply familiar with the law, and as a result, many simply speculate based on whatever information is fed to them. But what is the truth behind all the Senate and House investigations that are showcased in public? These two chambers often have different views and, at times, conflicting interests.\\n\\nThis article only reflects my point of view. My goal is to explain what is happening and why.'),\n",
       " Document(metadata={'source': 'sample_documents\\\\PDFs\\\\Philippines Flood Control Corruption_46371b3e-e694-4017-95fa-e3f689803067.pdf', 'md': 'sample_documents\\\\PDFs_parsed\\\\Philippines Flood Control Corruption_46371b3e-e694-4017-95fa-e3f689803067.md'}, page_content='### **The Discaya Revelations**\\n\\n**On September 1, 2025,** the first Blue Ribbon hearing ended with several contractors refusing to reveal what they knew — who was the most guilty, who the mastermind was. Was it the contractors themselves? The DPWH? Were senators or members of Congress involved?\\n\\nAmong them were Ms. Discaya and\\n\\n*Wawao Builders\\' Mr. Arevalo — who said, \"I invoke my right against self-incrimination\" — couldn\\'t face the senators .\".*\\n\\nThe Senate Blue Ribbon Committee announced that anyone who testifies under oath to reveal their knowledge of the corruption may be considered for application as a state witness, in order to protect them.\\n\\nOn **September 8, 2025**, during the second hearing, the Discayas publicly revealed what they claimed was personal knowledge of corruption and possible masterminds behind flood control projects. In exchange, they sought to be considered as **state witnesses**. They named high-profile figures, including **House Representative Zaldy Co** and **House Speaker Martin Romualdez**.'),\n",
       " Document(metadata={'source': 'sample_documents\\\\PDFs\\\\Philippines Flood Control Corruption_46371b3e-e694-4017-95fa-e3f689803067.pdf', 'md': 'sample_documents\\\\PDFs_parsed\\\\Philippines Flood Control Corruption_46371b3e-e694-4017-95fa-e3f689803067.md'}, page_content='#### *Mr. Discaya declared:*\\n\\n\"Mas gugustuhin namin maging kaaway ang mga taong pinangalanan namin kaysa sa 120k na Pilipino.\"\\n\\nHe also mentioned that he feared for his family\\'s safety.\\n\\nMentioning such names could endanger their lives, which is why they applied for state witness status. However, **being a state witness does not mean one is automatically \"forgiven.**\" Philippine law — Rule 119, Section 17 of the Rules of Court and RA 6981 (Witness Protection, Security, and Benefit Act) — sets strict requirements:\\n\\n- A state witness **must not be the most guilty**.\\n- Their testimony must be indispensable in proving the case.\\n- They must be formally discharged as an accused by the court and, if accepted, may be placed under **Witness Protection**, which provides security and benefits.\\n\\nThus, it is the **DOJ**, not the Senate, that decides on their acceptance. **It does not erase all liability** — it only provides immunity in the specific case where they testify.\\n\\nSenator **Ronald \"Bato\" Dela Rosa** even suggested that the Discayas use a bulletproof vehicle until their state witness application is resolved.\\n\\nHowever, that same evening, Senate leadership shifted. **Senator Vicente \"Tito\" Sotto III** was elected Senate President following the controversy. Soon after, the Discayas\\' application for state witness status was **rejected**. Press enter or click to view image in full size'),\n",
       " Document(metadata={'source': 'sample_documents\\\\PDFs\\\\Philippines Flood Control Corruption_46371b3e-e694-4017-95fa-e3f689803067.pdf', 'md': 'sample_documents\\\\PDFs_parsed\\\\Philippines Flood Control Corruption_46371b3e-e694-4017-95fa-e3f689803067.md'}, page_content=\"## STATEMENT OF SENATE PRESIDENT VICENTE SOTTO III\\n\\nHindi naman puwedeng makakuha sila ng proteksyon ng gobyerno pero ang dami nilang nakuhang pera ng bayan. Unfair sa mga kababayan natin 'yon.\\n\\nAng kailangan para maging state witness ka, ibalik mo ang ninakaw mo, magsabi ka ng totoo. Iba ang sinabi sa Senado, iba ang sinabi sa House.\\n\\nSabi nga ni Mayor Vico Sotto, sinungaling sila. Hindi gano'n kadali ang hiling nila.\\n\\nSeptember 10, 2025\\n\\n![](_page_3_Picture_5.jpeg)\\n\\nRead more on www.gmanetwork.com/news\\n\\nUnder **Rule 119, Section 17 of the Rules of Court**, and **Republic Act №6981** (Witness Protection, Security, and Benefit Act) blah blah blah!!\\n\\nThere is no such rule that says *'ibalik muna'*. This makes me think that Sotto is incapable of making such decision. Don't worry — the money and assets will surely be recovered by the government, It is mandatory not a requirements.\\n\\nIt is also crucial to understand that entry into the Witness Protection Program is not a pardon. Its sole purpose is to protect individuals from the syndicate they have exposed; without such protection, contractors would be unlikely to come forward. After the trial, the court will still render a final judgment on any offenses. While cooperation may result in reduced penalties, that decision rests entirely with the justice system.\"),\n",
       " Document(metadata={'source': 'sample_documents\\\\PDFs\\\\Philippines Flood Control Corruption_46371b3e-e694-4017-95fa-e3f689803067.pdf', 'md': 'sample_documents\\\\PDFs_parsed\\\\Philippines Flood Control Corruption_46371b3e-e694-4017-95fa-e3f689803067.md'}, page_content=\"Following the event **Hon. Rodante Marcoleta was forced to step down as chairman of the Blue Ribbon Committee**. He questioned the new Senate President, warning that the handling of contractors and the state witness program could be compromised raising doubts about the Senate's integrity. With this turn of events, will the remaining contractors still have the courage to speak up?\"),\n",
       " Document(metadata={'source': 'sample_documents\\\\PDFs\\\\Philippines Flood Control Corruption_46371b3e-e694-4017-95fa-e3f689803067.pdf', 'md': 'sample_documents\\\\PDFs_parsed\\\\Philippines Flood Control Corruption_46371b3e-e694-4017-95fa-e3f689803067.md'}, page_content='### **The Brice Hernandez Case**\\n\\nFollowing the Senate hearing, House Speaker **Romualdez** asked the new Senate President, **Sotto**, to turn over **Brice Hernandez** to Congress for their own investigation.\\n\\nIn Congress, Brice Hernandez escalated matters by claiming that even senators, specifically **Jinggoy Estrada** and **Joel Villanueva** , were involved in the corruption scheme.\\n\\n*Brice Hernadez said: \"Akala niya ligtas na sya\" to Senator Jinggoy Estrada*\\n\\nHe also said his life would be in danger if he remained under Senate custody.\\n\\nPublic opinion was divided: some believed Hernandez\\'s claims, while others saw them as a script planted by Congress.\\n\\nLater, Congress Chairman **Ridon** suggested considering Hernandez as a state witness. (Despite his questionable record and alleged misuse of millions in taxpayers\\' money through gambling. )\\n\\n**Hon. Marculeta** and Senator **Bato Dela Rosa** questioned Senate President Sotto\\'s actions regarding handling Hernandez to the congress without notifying the Senate team,\\n\\n*explaining that in past events, Congress had detained suspects in contempt and allegedly planted evidence or scripted testimonies in exchange for favors.*\\n\\nFor this reason, they decided to place Hernandez in **jail**, rather than in Senate or House custody.\\n\\nOn **September 10, 2025**, **Mr. Brice Hernandez** was officially jailed, not placed under the custody of either the Senate or Congress. His detention drew public sympathy and debate. Many questioned why he was behind bars while his superior, **Mr. Alcantara**, was not.'),\n",
       " Document(metadata={'source': 'sample_documents\\\\PDFs\\\\Philippines Flood Control Corruption_46371b3e-e694-4017-95fa-e3f689803067.pdf', 'md': 'sample_documents\\\\PDFs_parsed\\\\Philippines Flood Control Corruption_46371b3e-e694-4017-95fa-e3f689803067.md'}, page_content='The difference, as explained in hearings, was that **Alcantara cooperated and admitted some liability**, while Hernandez faced **strong evidence of unexplained wealth** — luxury cars, motorcycles, and millions of pesos allegedly **spent on casino gambling**. The Senate Blue Ribbon Committee **presented photos from casinos showing Hernandez using fake LTO IDs**.\\n\\n*When pressed by Senator Jinggoy Estrada, who warned:*\\n\\n*\"Give me a good reason why I should not cite you in contempt. Because if your reason is unacceptable to all of us here, we will be forced to cite you in contempt\"*'),\n",
       " Document(metadata={'source': 'sample_documents\\\\PDFs\\\\Philippines Flood Control Corruption_46371b3e-e694-4017-95fa-e3f689803067.pdf', 'md': 'sample_documents\\\\PDFs_parsed\\\\Philippines Flood Control Corruption_46371b3e-e694-4017-95fa-e3f689803067.md'}, page_content=\"### **— This is during the Senate hearing held prior to the Congress hearing —** Hernandez gave weak responses, denied the evidence presented, and failed to provide a valid explanation. As a result, he was cited in contempt of the Senate.\\n\\n**Important clarification:** Being cited in contempt is **not a criminal conviction**. It only means the Senate can detain a witness for refusing to cooperate or obstructing proceedings. Any actual criminal liability will still be decided by the **DOJ and the courts** after a full investigation.\\n\\nThe primary purpose of citing someone in contempt is to **compel them to testify, produce documents, or behave properly during a hearin**g. It is a **coercive tool, not a punitive one in the criminal sens**e.\\n\\nNow, Congress appears to be targeting Senators **Jinggoy Estrada** and **Joel Villanueva**. In my view, this move could be politically motivated: if Estrada and Villanueva are weakened or removed, the **Senate minority bloc loses strength**, thereby consolidating the power of the new Senate President, **Tito Sotto**. ++++++ END ++++++\\n\\nThis is my opinion only as of September 12, 2025. Let's see what will happen next.\\n\\nFeel free to comment and share your views too.\")]"
      ]
     },
     "execution_count": 6,
     "metadata": {},
     "output_type": "execute_result"
    }
   ],
   "source": [
    "chunks: List[Document] = splitter.split_documents(docs)\n",
    "print(\"Total chunks:\", len(chunks))\n",
    "chunks"
   ]
  },
  {
   "cell_type": "code",
   "execution_count": 9,
   "id": "db830a8d",
   "metadata": {},
   "outputs": [],
   "source": [
    "# Langchain_chunker = [chunk.page_content for chunk in chunks]\n",
    "# analyze_chunks_df(Langchain_chunker, use_tokens=True).head(3)"
   ]
  },
  {
   "cell_type": "markdown",
   "id": "c3ae9b77",
   "metadata": {},
   "source": [
    "## Pinecone Ingestion (dense & sparse)"
   ]
  },
  {
   "cell_type": "markdown",
   "id": "34057438",
   "metadata": {},
   "source": [
    "**Setup**"
   ]
  },
  {
   "cell_type": "code",
   "execution_count": 10,
   "id": "54d6cea3",
   "metadata": {},
   "outputs": [],
   "source": [
    "# ============================================\n",
    "# Pinecone (hybrid index) setup\n",
    "# ============================================\n",
    "from pinecone import Pinecone, ServerlessSpec\n",
    "\n",
    "# Pinecone config\n",
    "INDEX_NAME = \"rag-hybrid-agentic\"\n",
    "PC_CLOUD = \"aws\"\n",
    "PC_REGION = \"us-east-1\"     # where serverless is available\n",
    "\n",
    "pc = Pinecone(api_key=os.environ[\"PINECONE_API_KEY\"])\n",
    "existing = {ix[\"name\"]: ix for ix in pc.list_indexes()}\n",
    "if INDEX_NAME not in existing:\n",
    "    pc.create_index(\n",
    "        name=INDEX_NAME,\n",
    "        dimension=1024,         # text-embedding-3-large\n",
    "        metric=\"dotproduct\",    # supports sparse+dense hybrid\n",
    "        spec=ServerlessSpec(cloud=PC_CLOUD, region=PC_REGION),\n",
    "    )\n",
    "index = pc.Index(INDEX_NAME)"
   ]
  },
  {
   "cell_type": "code",
   "execution_count": 11,
   "id": "acf7bdd4",
   "metadata": {},
   "outputs": [
    {
     "name": "stderr",
     "output_type": "stream",
     "text": [
      "100%|██████████| 16/16 [00:00<00:00, 273.09it/s]\n"
     ]
    }
   ],
   "source": [
    "# ============================================\n",
    "# 4) Embeddings + BM25 sparse encoder\n",
    "# ============================================\n",
    "from pinecone_text.sparse import BM25Encoder\n",
    "\n",
    "\n",
    "# 1. embeding\n",
    "# embeddings (already done earlier)\n",
    "\n",
    "# 2. sparse\n",
    "texts = [d.page_content for d in chunks]\n",
    "bm25 = BM25Encoder()\n",
    "bm25.fit(texts)\n",
    "\n",
    "# (Optional) persist & reload if you want to reuse in a fresh process\n",
    "bm25_path = \"./bm25_values.json\" \n",
    "bm25.dump(\"bm25_values.json\")\n"
   ]
  },
  {
   "cell_type": "code",
   "execution_count": 12,
   "id": "24d64c69",
   "metadata": {},
   "outputs": [],
   "source": [
    "dense_vecs = embeddings.embed_documents(texts)           # list[list[float]]\n",
    "sparse_vecs = bm25.encode_documents(texts)               # list[{\"indices\":[...], \"values\":[...]}]"
   ]
  },
  {
   "cell_type": "code",
   "execution_count": 13,
   "id": "8619c3e7",
   "metadata": {},
   "outputs": [],
   "source": [
    "import hashlib\n",
    "from tqdm import tqdm\n",
    "\n",
    "# IDs are deterministic, so re-running safely overwrites (idempotent upsert).\n",
    "def make_id(doc):\n",
    "    # stable id from content + common metadata fields\n",
    "    base = f\"{doc.metadata.get('source','')}|{doc.metadata.get('md','')}|{doc.page_content}\"\n",
    "    return hashlib.sha256(base.encode(\"utf-8\")).hexdigest()[:32]"
   ]
  },
  {
   "cell_type": "code",
   "execution_count": 14,
   "id": "dce8a1b0",
   "metadata": {},
   "outputs": [
    {
     "name": "stderr",
     "output_type": "stream",
     "text": [
      "100%|██████████| 16/16 [00:00<00:00, 16412.05it/s]\n"
     ]
    }
   ],
   "source": [
    "to_upsert = []\n",
    "for doc, dense, sparse in tqdm(zip(chunks,\n",
    "                                   dense_vecs, \n",
    "                                   sparse_vecs), \n",
    "                                   total=len(chunks)):\n",
    "    metadata = {\n",
    "        **doc.metadata,\n",
    "        \"context\": doc.page_content,  # IMPORTANT: retriever expects \"context\"\n",
    "    }\n",
    "    to_upsert.append({\n",
    "        \"id\": doc.metadata.get(\"id\") or make_id(doc),\n",
    "        \"values\": dense,\n",
    "        \"sparse_values\": sparse,      # {\"indices\":[...], \"values\":[...]}\n",
    "        \"metadata\": metadata,\n",
    "    })"
   ]
  },
  {
   "cell_type": "markdown",
   "id": "f16ebd8a",
   "metadata": {},
   "source": [
    "**Upsert to Pinecone**"
   ]
  },
  {
   "cell_type": "code",
   "execution_count": 15,
   "id": "1aa16c98",
   "metadata": {},
   "outputs": [],
   "source": [
    "# -------------------------------\n",
    "# Upsert to Pinecone (batch)\n",
    "# -------------------------------\n",
    "namespace = \"docs\"\n",
    "batch = 4\n",
    "for i in range(0, len(to_upsert), batch):\n",
    "    index.upsert(vectors=to_upsert[i:i+batch], namespace=namespace)"
   ]
  },
  {
   "cell_type": "markdown",
   "id": "44b53b76",
   "metadata": {},
   "source": [
    "# RETRIEVER"
   ]
  },
  {
   "cell_type": "markdown",
   "id": "fffad41f",
   "metadata": {},
   "source": [
    "## Hybrid Retriever | Query Testing"
   ]
  },
  {
   "cell_type": "code",
   "execution_count": 16,
   "id": "0c6d4800",
   "metadata": {},
   "outputs": [],
   "source": [
    "# -------------------------------\n",
    "# Create the hybrid retriever\n",
    "# -------------------------------\n",
    "from langchain_community.retrievers import PineconeHybridSearchRetriever\n",
    "\n",
    "retriever = PineconeHybridSearchRetriever(\n",
    "    embeddings=embeddings, #(dense)\n",
    "    sparse_encoder=bm25,\n",
    "    index=index,\n",
    "    namespace=namespace,\n",
    "    alpha=0.7,     # 0=sparse only, 1=dense only. Tune.\n",
    "    top_k=6\n",
    ")"
   ]
  },
  {
   "cell_type": "code",
   "execution_count": 17,
   "id": "23c7eb51",
   "metadata": {},
   "outputs": [
    {
     "name": "stdout",
     "output_type": "stream",
     "text": [
      "### **— This is during the Senate hearing held prior to the  … | source: E:\\0_AI_2025\\railway\\rag_082025\\sample_documents\\PDFs\\Philippines Flood Control Corruption_39767746-b609-45a8-84de-d600f8ba3cff.pdf\n",
      "### **— This is during the Senate hearing held prior to the  … | source: E:\\0_AI_2025\\railway\\rag_082025\\sample_documents\\PDFs\\Philippines Flood Control Corruption_46371b3e-e694-4017-95fa-e3f689803067.pdf\n",
      "### **— This is during the Senate hearing held prior to the  … | source: E:\\0_AI_2025\\railway\\rag_082025\\sample_documents\\PDFs\\Philippines Flood Control Corruption_991ff679-373a-4904-b890-d519a80e720b.pdf\n",
      "### **— This is during the Senate hearing held prior to the  … | source: E:\\0_AI_2025\\railway\\rag_082025\\sample_documents\\PDFs\\Philippines Flood Control Corruption_eef0fe38-1f13-4512-96c3-590827214254.pdf\n",
      "The difference, as explained in hearings, was that **Alcanta … | source: E:\\0_AI_2025\\railway\\rag_082025\\sample_documents\\PDFs\\Philippines Flood Control Corruption_39767746-b609-45a8-84de-d600f8ba3cff.pdf\n",
      "The difference, as explained in hearings, was that **Alcanta … | source: E:\\0_AI_2025\\railway\\rag_082025\\sample_documents\\PDFs\\Philippines Flood Control Corruption_991ff679-373a-4904-b890-d519a80e720b.pdf\n"
     ]
    }
   ],
   "source": [
    "# -------------------------------\n",
    "# Query the top k docs\n",
    "# -------------------------------\n",
    "query = '''Who was help in contempt in the senate?'''\n",
    "\n",
    "docs = retriever.invoke(query)\n",
    "\n",
    "for d in docs:\n",
    "    print(d.page_content[:60].replace(\"\\n\", \" \"), \"… | source:\", d.metadata.get(\"source\"))"
   ]
  },
  {
   "cell_type": "markdown",
   "id": "74eed478",
   "metadata": {},
   "source": [
    "# Re Rank"
   ]
  },
  {
   "cell_type": "code",
   "execution_count": 18,
   "id": "6a4200f2",
   "metadata": {},
   "outputs": [],
   "source": [
    "# ============================================\n",
    "# 7) ReRanker (Cohere) and compression retriever\n",
    "# ============================================\n",
    "from langchain_cohere import CohereRerank\n",
    "from langchain.retrievers.contextual_compression import ContextualCompressionRetriever\n",
    "\n",
    "\n",
    "compressor = CohereRerank(model=\"rerank-v3.5\", top_n=4)\n",
    "hybrid_rerank_retriever = ContextualCompressionRetriever(\n",
    "    base_compressor=compressor,\n",
    "    base_retriever=retriever,\n",
    ")"
   ]
  },
  {
   "cell_type": "markdown",
   "id": "0a5941bc",
   "metadata": {},
   "source": [
    "**Testing Re rank**"
   ]
  },
  {
   "cell_type": "code",
   "execution_count": 19,
   "metadata": {},
   "outputs": [],
   "source": [
    "# Test\n",
    "def check_rank(docs, title):\n",
    "    print(f\"\\n=== {title} ({len(docs)} docs) ===\")\n",
    "    for i, d in enumerate(docs, 1):\n",
    "        score = d.metadata.get(\"relevance_score\") or d.metadata.get(\"score\")\n",
    "        src   = d.metadata.get(\"source\")\n",
    "        preview = d.page_content.replace(\"\\n\", \" \")[:140]\n",
    "        print(f\"{i:>2}. score={score} | {preview} | {src} \")"
   ]
  },
  {
   "cell_type": "code",
   "execution_count": 20,
   "metadata": {},
   "outputs": [
    {
     "name": "stdout",
     "output_type": "stream",
     "text": [
      "\n",
      "=== RERANKED top-k (Cohere) (4 docs) ===\n",
      " 1. score=0.6102915 | ### **— This is during the Senate hearing held prior to the Congress hearing —** Hernandez gave weak responses, denied the evidence presente | sample_documents\\PDFs\\Philippines Flood Control Corruption_46371b3e-e694-4017-95fa-e3f689803067.pdf \n",
      " 2. score=0.6102915 | ### **— This is during the Senate hearing held prior to the Congress hearing —** Hernandez gave weak responses, denied the evidence presente | sample_documents\\PDFs\\Philippines Flood Control Corruption_39767746-b609-45a8-84de-d600f8ba3cff.pdf \n",
      " 3. score=0.6102915 | ### **— This is during the Senate hearing held prior to the Congress hearing —** Hernandez gave weak responses, denied the evidence presente | E:\\0_AI_2025\\railway\\rag_082025\\sample_documents\\PDFs\\Philippines Flood Control Corruption_46371b3e-e694-4017-95fa-e3f689803067.pdf \n",
      " 4. score=0.6102915 | ### **— This is during the Senate hearing held prior to the Congress hearing —** Hernandez gave weak responses, denied the evidence presente | E:\\0_AI_2025\\railway\\rag_082025\\sample_documents\\PDFs\\Philippines Flood Control Corruption_eef0fe38-1f13-4512-96c3-590827214254.pdf \n"
     ]
    }
   ],
   "source": [
    "reranked_docs = hybrid_rerank_retriever.invoke(query)\n",
    "check_rank(reranked_docs, \"RERANKED top-k (Cohere)\")"
   ]
  },
  {
   "cell_type": "markdown",
   "id": "1a6d2330",
   "metadata": {},
   "source": [
    ">Pinecone’s hybrid score is great for finding potentially relevant chunks; a reranker is for ordering them by how well they actually answer your specific query. Use reranking when the top-few need to be right."
   ]
  },
  {
   "cell_type": "code",
   "execution_count": 21,
   "id": "452427f7",
   "metadata": {},
   "outputs": [
    {
     "data": {
      "text/plain": [
       "'Who was help in contempt in the senate?'"
      ]
     },
     "execution_count": 21,
     "metadata": {},
     "output_type": "execute_result"
    }
   ],
   "source": [
    "query"
   ]
  },
  {
   "cell_type": "code",
   "execution_count": 22,
   "id": "b133a122",
   "metadata": {},
   "outputs": [
    {
     "data": {
      "text/plain": [
       "[Document(metadata={'md': 'sample_documents\\\\PDFs_parsed\\\\Philippines Flood Control Corruption_46371b3e-e694-4017-95fa-e3f689803067.md', 'source': 'sample_documents\\\\PDFs\\\\Philippines Flood Control Corruption_46371b3e-e694-4017-95fa-e3f689803067.pdf', 'score': 0.515320241, 'relevance_score': 0.6102915}, page_content=\"### **— This is during the Senate hearing held prior to the Congress hearing —** Hernandez gave weak responses, denied the evidence presented, and failed to provide a valid explanation. As a result, he was cited in contempt of the Senate.\\n\\n**Important clarification:** Being cited in contempt is **not a criminal conviction**. It only means the Senate can detain a witness for refusing to cooperate or obstructing proceedings. Any actual criminal liability will still be decided by the **DOJ and the courts** after a full investigation.\\n\\nThe primary purpose of citing someone in contempt is to **compel them to testify, produce documents, or behave properly during a hearin**g. It is a **coercive tool, not a punitive one in the criminal sens**e.\\n\\nNow, Congress appears to be targeting Senators **Jinggoy Estrada** and **Joel Villanueva**. In my view, this move could be politically motivated: if Estrada and Villanueva are weakened or removed, the **Senate minority bloc loses strength**, thereby consolidating the power of the new Senate President, **Tito Sotto**. ++++++ END ++++++\\n\\nThis is my opinion only as of September 12, 2025. Let's see what will happen next.\\n\\nFeel free to comment and share your views too.\"),\n",
       " Document(metadata={'md': 'sample_documents\\\\PDFs_parsed\\\\Philippines Flood Control Corruption_39767746-b609-45a8-84de-d600f8ba3cff.md', 'source': 'sample_documents\\\\PDFs\\\\Philippines Flood Control Corruption_39767746-b609-45a8-84de-d600f8ba3cff.pdf', 'score': 0.515320241, 'relevance_score': 0.6102915}, page_content=\"### **— This is during the Senate hearing held prior to the Congress hearing —** Hernandez gave weak responses, denied the evidence presented, and failed to provide a valid explanation. As a result, he was cited in contempt of the Senate.\\n\\n**Important clarification:** Being cited in contempt is **not a criminal conviction**. It only means the Senate can detain a witness for refusing to cooperate or obstructing proceedings. Any actual criminal liability will still be decided by the **DOJ and the courts** after a full investigation.\\n\\nThe primary purpose of citing someone in contempt is to **compel them to testify, produce documents, or behave properly during a hearin**g. It is a **coercive tool, not a punitive one in the criminal sens**e.\\n\\nNow, Congress appears to be targeting Senators **Jinggoy Estrada** and **Joel Villanueva**. In my view, this move could be politically motivated: if Estrada and Villanueva are weakened or removed, the **Senate minority bloc loses strength**, thereby consolidating the power of the new Senate President, **Tito Sotto**. ++++++ END ++++++\\n\\nThis is my opinion only as of September 12, 2025. Let's see what will happen next.\\n\\nFeel free to comment and share your views too.\"),\n",
       " Document(metadata={'md': 'E:\\\\0_AI_2025\\\\railway\\\\rag_082025\\\\sample_documents\\\\PDFs_parsed\\\\Philippines Flood Control Corruption_eef0fe38-1f13-4512-96c3-590827214254.md', 'source': 'E:\\\\0_AI_2025\\\\railway\\\\rag_082025\\\\sample_documents\\\\PDFs\\\\Philippines Flood Control Corruption_eef0fe38-1f13-4512-96c3-590827214254.pdf', 'score': 0.493598402, 'relevance_score': 0.6102915}, page_content=\"### **— This is during the Senate hearing held prior to the Congress hearing —** Hernandez gave weak responses, denied the evidence presented, and failed to provide a valid explanation. As a result, he was cited in contempt of the Senate.\\n\\n**Important clarification:** Being cited in contempt is **not a criminal conviction**. It only means the Senate can detain a witness for refusing to cooperate or obstructing proceedings. Any actual criminal liability will still be decided by the **DOJ and the courts** after a full investigation.\\n\\nThe primary purpose of citing someone in contempt is to **compel them to testify, produce documents, or behave properly during a hearin**g. It is a **coercive tool, not a punitive one in the criminal sens**e.\\n\\nNow, Congress appears to be targeting Senators **Jinggoy Estrada** and **Joel Villanueva**. In my view, this move could be politically motivated: if Estrada and Villanueva are weakened or removed, the **Senate minority bloc loses strength**, thereby consolidating the power of the new Senate President, **Tito Sotto**. ++++++ END ++++++\\n\\nThis is my opinion only as of September 12, 2025. Let's see what will happen next.\\n\\nFeel free to comment and share your views too.\"),\n",
       " Document(metadata={'md': 'E:\\\\0_AI_2025\\\\railway\\\\rag_082025\\\\sample_documents\\\\PDFs_parsed\\\\Philippines Flood Control Corruption_39767746-b609-45a8-84de-d600f8ba3cff.md', 'source': 'E:\\\\0_AI_2025\\\\railway\\\\rag_082025\\\\sample_documents\\\\PDFs\\\\Philippines Flood Control Corruption_39767746-b609-45a8-84de-d600f8ba3cff.pdf', 'score': 0.493598402, 'relevance_score': 0.6102915}, page_content=\"### **— This is during the Senate hearing held prior to the Congress hearing —** Hernandez gave weak responses, denied the evidence presented, and failed to provide a valid explanation. As a result, he was cited in contempt of the Senate.\\n\\n**Important clarification:** Being cited in contempt is **not a criminal conviction**. It only means the Senate can detain a witness for refusing to cooperate or obstructing proceedings. Any actual criminal liability will still be decided by the **DOJ and the courts** after a full investigation.\\n\\nThe primary purpose of citing someone in contempt is to **compel them to testify, produce documents, or behave properly during a hearin**g. It is a **coercive tool, not a punitive one in the criminal sens**e.\\n\\nNow, Congress appears to be targeting Senators **Jinggoy Estrada** and **Joel Villanueva**. In my view, this move could be politically motivated: if Estrada and Villanueva are weakened or removed, the **Senate minority bloc loses strength**, thereby consolidating the power of the new Senate President, **Tito Sotto**. ++++++ END ++++++\\n\\nThis is my opinion only as of September 12, 2025. Let's see what will happen next.\\n\\nFeel free to comment and share your views too.\")]"
      ]
     },
     "execution_count": 22,
     "metadata": {},
     "output_type": "execute_result"
    }
   ],
   "source": [
    "hybrid_rerank_retriever.invoke(query)"
   ]
  },
  {
   "cell_type": "markdown",
   "id": "58a23a54",
   "metadata": {},
   "source": [
    "# Test With LLM"
   ]
  },
  {
   "cell_type": "code",
   "execution_count": 23,
   "id": "51c5f806",
   "metadata": {},
   "outputs": [],
   "source": [
    "from langchain_core.runnables import RunnablePassthrough, RunnableParallel\n",
    "from langchain_core.prompts import ChatPromptTemplate\n",
    "from langchain_core.output_parsers import StrOutputParser\n",
    "\n",
    "\n",
    "# --- Prompt & chain wiring ---\n",
    "SYSTEM_PROMPT = \"\"\"You are a helpful assistant that answers using only the provided context.\n",
    "If the answer is not in the context, say you don't know.\n",
    "Cite sources as [source:<id or title>] inline where relevant.\"\"\"\n",
    "\n",
    "prompt = ChatPromptTemplate.from_messages([\n",
    "    (\"system\", SYSTEM_PROMPT),\n",
    "    (\"human\", \"Question: {question}\\n\\nContext:\\n{context}\")\n",
    "])\n",
    "\n",
    "def format_docs(docs):\n",
    "    # Keep the reranker’s order; include simple source handles for citations\n",
    "    lines = []\n",
    "    for i, d in enumerate(docs, 1):\n",
    "        src = d.metadata.get(\"source\") or d.metadata.get(\"id\") or f\"doc{i}\"\n",
    "        lines.append(f\"[{src}] {d.page_content}\")\n",
    "    return \"\\n\\n\".join(lines)\n",
    "\n",
    "# We’ll produce both the answer and the source docs in one go.\n",
    "rag_inputs = RunnableParallel(\n",
    "    context=hybrid_rerank_retriever | format_docs,\n",
    "    docs=hybrid_rerank_retriever,     # pass through the actual Document objects too\n",
    "    question=RunnablePassthrough()\n",
    ")\n",
    "\n",
    "chain = (\n",
    "    rag_inputs\n",
    "    | {\"question\": lambda x: x[\"question\"], \"context\": lambda x: x[\"context\"]}\n",
    "    | prompt\n",
    "    | llm_gen\n",
    "    | StrOutputParser()\n",
    ")\n"
   ]
  },
  {
   "cell_type": "code",
   "execution_count": 24,
   "id": "4f1885ee",
   "metadata": {},
   "outputs": [
    {
     "name": "stdout",
     "output_type": "stream",
     "text": [
      "Hernandez was cited in contempt of the Senate [source: Philippines Flood Control Corruption].\n",
      "\n",
      "Sources used (in reranked order): [(0.8724455, '### **— This is during the Senate hearing held prior to the Congress hearing —** Hernandez gave weak'), (0.8724455, '### **— This is during the Senate hearing held prior to the Congress hearing —** Hernandez gave weak'), (0.8724455, '### **— This is during the Senate hearing held prior to the Congress hearing —** Hernandez gave weak'), (0.8724455, '### **— This is during the Senate hearing held prior to the Congress hearing —** Hernandez gave weak')]\n"
     ]
    }
   ],
   "source": [
    "# --- Run it ---\n",
    "user_query = \"Who was held cited in contempt in the senate?\"\n",
    "answer_text = chain.invoke(user_query)\n",
    "\n",
    "# If you want to surface human-friendly citations afterwards:\n",
    "docs = rag_inputs.invoke(user_query)[\"docs\"]\n",
    "citations = [\n",
    "    (d.metadata.get(\"relevance_score\"),  d.page_content[:100])\n",
    "    for i, d in enumerate(docs)\n",
    "]\n",
    "\n",
    "print(answer_text)\n",
    "print(\"\\nSources used (in reranked order):\", citations)"
   ]
  },
  {
   "cell_type": "markdown",
   "id": "a5db5600",
   "metadata": {},
   "source": [
    "# Knowledge Graph (Neo4j)"
   ]
  },
  {
   "cell_type": "markdown",
   "id": "61c8e27c",
   "metadata": {},
   "source": [
    "**Text-to-Cypher Generation**"
   ]
  },
  {
   "cell_type": "code",
   "execution_count": 25,
   "id": "d5bee885",
   "metadata": {},
   "outputs": [],
   "source": [
    "from langchain_neo4j import Neo4jGraph\n",
    "from langchain_experimental.graph_transformers import LLMGraphTransformer\n",
    "\n",
    "use_graph = all(os.getenv(k) for k in [\"NEO4J_URI\",\"NEO4J_USERNAME\",\"NEO4J_PASSWORD\"])\n",
    "\n",
    "if use_graph:\n",
    "    graph = Neo4jGraph(\n",
    "        url=os.environ[\"NEO4J_URI\"],\n",
    "        username=os.environ[\"NEO4J_USERNAME\"],\n",
    "        password=os.environ[\"NEO4J_PASSWORD\"],\n",
    "        database=os.environ.get(\"NEO4J_DATABASE\", \"neo4j\"),\n",
    "        refresh_schema=False,\n",
    "    )\n",
    "\n",
    "    # 🔐 Minimal constraints so MERGE behaves like upsert\n",
    "    graph.query(\"\"\"\n",
    "    CREATE CONSTRAINT IF NOT EXISTS FOR (e:Entity) REQUIRE e.id IS UNIQUE;\n",
    "    \"\"\")\n",
    "\n",
    "    transformer = LLMGraphTransformer(llm=llm_gen)\n",
    "    graph_documents = transformer.convert_to_graph_documents(chunks)\n",
    "\n",
    "    # ✅ Store with explicit source key and base label\n",
    "    graph.add_graph_documents(\n",
    "        graph_documents,\n",
    "        include_source=True,\n",
    "        baseEntityLabel=\"Entity\"   \n",
    "    )\n"
   ]
  },
  {
   "cell_type": "markdown",
   "id": "b702142d",
   "metadata": {},
   "source": [
    "Create index for entity and relation"
   ]
  },
  {
   "cell_type": "code",
   "execution_count": 26,
   "id": "c83e94bf",
   "metadata": {},
   "outputs": [],
   "source": [
    "# Auto-create a fulltext index on labels that actually have these props\n",
    "def ensure_fulltext_auto(graph,\n",
    "                         index_name=\"entity_fulltext\",\n",
    "                         props=(\"name\",\"id\",\"title\",\"value\",\"md\",\"description\")):\n",
    "    # 1) find labels that have ANY of the props\n",
    "    rows = graph.query(\"\"\"\n",
    "    WITH $props AS props\n",
    "    UNWIND props AS p\n",
    "    MATCH (n)\n",
    "    WHERE n[p] IS NOT NULL\n",
    "    WITH collect(DISTINCT labels(n)) AS labelsets\n",
    "    UNWIND labelsets AS ls\n",
    "    UNWIND ls AS label\n",
    "    RETURN DISTINCT label\n",
    "    ORDER BY label\n",
    "    \"\"\", params={\"props\": list(props)})\n",
    "\n",
    "    labels = [r[\"label\"] for r in rows]\n",
    "    if not labels:\n",
    "        raise RuntimeError(\"No labels found with the given properties; nothing to index.\")\n",
    "\n",
    "    # 2) recreate the index to ensure it covers all detected labels\n",
    "    graph.query(f\"DROP INDEX {index_name} IF EXISTS;\")\n",
    "\n",
    "    label_union = \"|\".join(f\"`{l}`\" for l in labels)            # handles labels like `__Entity__`\n",
    "    prop_list   = \",\".join(f\"n.{p}\" for p in props)\n",
    "\n",
    "    graph.query(f\"\"\"\n",
    "    CREATE FULLTEXT INDEX {index_name}\n",
    "    FOR (n:{label_union})\n",
    "    ON EACH [{prop_list}];\n",
    "    \"\"\")\n",
    "\n",
    "    return {\"index\": index_name, \"labels\": labels, \"props\": list(props)}"
   ]
  },
  {
   "cell_type": "code",
   "execution_count": 27,
   "id": "49dc6c4b",
   "metadata": {},
   "outputs": [
    {
     "data": {
      "text/plain": [
       "{'index': 'entity_fulltext',\n",
       " 'labels': ['Committee',\n",
       "  'Country',\n",
       "  'Document',\n",
       "  'Law',\n",
       "  'Organization',\n",
       "  'People',\n",
       "  'Person',\n",
       "  'Program',\n",
       "  '__Entity__'],\n",
       " 'props': ['name', 'id', 'title', 'value', 'md', 'description']}"
      ]
     },
     "execution_count": 27,
     "metadata": {},
     "output_type": "execute_result"
    }
   ],
   "source": [
    "ensure_fulltext_auto(graph)   # builds index on real labels (e.g., `__Entity__`, Person, Document…)"
   ]
  },
  {
   "cell_type": "code",
   "execution_count": 28,
   "id": "f77b068a",
   "metadata": {},
   "outputs": [],
   "source": [
    "# --- 1) Neo4j → pull top facts (with sources) for a question ---\n",
    "def fetch_facts_for_question(question: str, graph=graph, top_nodes: int = 3, max_facts: int = 3):\n",
    "    cypher = \"\"\"\n",
    "    // Anchor on the most relevant nodes by fulltext score\n",
    "    CALL db.index.fulltext.queryNodes('entity_fulltext', $q)\n",
    "    YIELD node, score\n",
    "    WITH node, score\n",
    "    ORDER BY score DESC\n",
    "    LIMIT $top_nodes\n",
    "\n",
    "    // Expand only meaningful relationships around each anchor\n",
    "    OPTIONAL MATCH (node)-[r]-(n2)\n",
    "    WHERE type(r) <> 'MENTIONS'\n",
    "      AND NOT any(l IN labels(n2) WHERE l IN ['Chunk','Paragraph','Page','Span'])\n",
    "    WITH coalesce(node.name, node.id, node.title, node.value) AS subject,\n",
    "         type(r) AS rel,\n",
    "         coalesce(n2.name, n2.id, n2.title, n2.value) AS object,\n",
    "         coalesce(r.source, node.source, n2.source) AS source,\n",
    "         score\n",
    "    RETURN subject, rel, object, source, score\n",
    "    ORDER BY score DESC\n",
    "    LIMIT $max_facts\n",
    "    \"\"\"\n",
    "    return graph.query(cypher, params={\"q\": question, \"top_nodes\": top_nodes, \"max_facts\": max_facts})"
   ]
  },
  {
   "cell_type": "code",
   "execution_count": 200,
   "id": "c8e8ff51",
   "metadata": {},
   "outputs": [
    {
     "data": {
      "text/plain": [
       "[{'subject': 'Senate Blue Ribbon Committee',\n",
       "  'rel': 'TESTIFIED_BEFORE',\n",
       "  'object': 'Ms. Discaya',\n",
       "  'source': None,\n",
       "  'score': 2.9227957725524902},\n",
       " {'subject': 'Senate Blue Ribbon Committee',\n",
       "  'rel': 'PRESENTS',\n",
       "  'object': 'Photos From Casinos',\n",
       "  'source': None,\n",
       "  'score': 2.9227957725524902},\n",
       " {'subject': 'Blue Ribbon Committee',\n",
       "  'rel': 'CHAIRMAN',\n",
       "  'object': 'Hon. Rodante Marcoleta',\n",
       "  'source': None,\n",
       "  'score': 2.3572449684143066}]"
      ]
     },
     "execution_count": 200,
     "metadata": {},
     "output_type": "execute_result"
    }
   ],
   "source": [
    "fetch_facts_for_question(\"who testified in the Senate Blue Ribbon Committee?\")"
   ]
  },
  {
   "cell_type": "code",
   "execution_count": 30,
   "id": "97488998",
   "metadata": {},
   "outputs": [],
   "source": [
    "# --- 2) LLM prompt that forces grounding in KG facts ---\n",
    "def answer_with_kg(question: str, graph=graph, llm=llm_gen) -> str:\n",
    "\n",
    "    rows = fetch_facts_for_question(question)\n",
    "    if not rows:\n",
    "        return \"I don’t have enough graph facts to answer that yet.\"\n",
    "\n",
    "    # format a compact, source-aware context\n",
    "    lines = []\n",
    "    for r in rows:\n",
    "        src = r[\"source\"] or \"unknown\"\n",
    "        lines.append(f\"- {r['subject']} —[{r['rel']}]→ {r['object']}  (source: {src})\")\n",
    "    context = \"\\n\".join(lines)\n",
    "\n",
    "    prompt = f\"\"\"\n",
    "You are a careful assistant. Answer the question ONLY using the FACTS below.\n",
    "If facts are insufficient, say so. Include a short sources list from the 'source' fields.\n",
    "\n",
    "FACTS:\n",
    "{context}\n",
    "\n",
    "QUESTION: {question}\n",
    "\n",
    "FORMAT:\n",
    "- 1–2 sentence answer\n",
    "- \"Sources:\" then 1–5 concise source items\n",
    "\"\"\"\n",
    "    # Works for LangChain LLMs that implement .invoke(). If yours uses .predict(), swap accordingly.\n",
    "    resp = llm.invoke(prompt)\n",
    "    return getattr(resp, \"content\", resp)"
   ]
  },
  {
   "cell_type": "code",
   "execution_count": 31,
   "id": "84ad8d74",
   "metadata": {},
   "outputs": [
    {
     "data": {
      "text/plain": [
       "'Ms. Discaya testified before the Senate Blue Ribbon Committee. \\n\\nSources:\\n- unknown'"
      ]
     },
     "execution_count": 31,
     "metadata": {},
     "output_type": "execute_result"
    }
   ],
   "source": [
    "answer_with_kg(\"who testified in the Senate Blue Ribbon Committee?\")"
   ]
  },
  {
   "cell_type": "code",
   "execution_count": 32,
   "id": "46a9febf",
   "metadata": {},
   "outputs": [
    {
     "data": {
      "text/plain": [
       "'The corruption flood control issue occurred in the Philippines. This is based on the title of the PDF document \"Philippines Flood Control Corruption\".\\n\\nSources:\\n- sample_documents\\\\PDFs\\\\Philippines Flood Control Corruption_46371b3e-e694-4017-95fa-e3f689803067.pdf'"
      ]
     },
     "execution_count": 32,
     "metadata": {},
     "output_type": "execute_result"
    }
   ],
   "source": [
    "answer_with_kg(\"What country does the corruption flood control happened?\")"
   ]
  },
  {
   "cell_type": "markdown",
   "id": "1e396f9a",
   "metadata": {},
   "source": [
    "# Test Phase"
   ]
  },
  {
   "cell_type": "markdown",
   "id": "aeb8ad52",
   "metadata": {},
   "source": [
    ">The system prompt is one of the most critical component for controlling a RAG system's behavior. \n",
    "\n",
    ">It acts as the ultimate guardrail, explicitly instructing the language model to use only the provided context and to never invent or infer information. \n",
    "\n",
    ">This directly prevents hallucinations and ensures every answer is grounded in your source data, making the system reliable, precise, and trustworthy."
   ]
  },
  {
   "cell_type": "markdown",
   "id": "ff933c4f",
   "metadata": {},
   "source": [
    "- If there is no relevant match, return exactly \"The provided context does not contain that information.\"\n",
    "\n",
    "- If there is a high-similarity match but the question is vague/unclear, propose a clearer rephrased version of the user’s question based on the context."
   ]
  },
  {
   "cell_type": "code",
   "execution_count": 33,
   "id": "e2ad08cc",
   "metadata": {},
   "outputs": [],
   "source": [
    "# SYSTEM_PROMPT = (\n",
    "#     \"You are a friendly chatbot assistant for enterprise documents. \"\n",
    "#     \"Use only the provided context to answer the question.\"\n",
    "#     'dont assume or invent if not in the documents and cite the resource chunk'\n",
    "# )"
   ]
  },
  {
   "cell_type": "code",
   "execution_count": 34,
   "id": "aaa39249",
   "metadata": {},
   "outputs": [],
   "source": [
    "# from typing import Dict, Any\n",
    "\n",
    "# def query(question: str) -> Dict[str, Any]:\n",
    "#     # Step 1: Hybrid retrieval + Cohere rerank\n",
    "#     retrieved = hybrid_rerank_retriever.invoke(question)\n",
    "\n",
    "#     # Step 2: (Optional) enrich with graph neighbors in Neo4j\n",
    "#     graph_facts = None\n",
    "#     if use_graph:\n",
    "#         # Naive example: find nodes whose names appear in question, pull 1-hop facts\n",
    "#         q_terms = [t for t in question.split() if len(t) > 3]\n",
    "#         if q_terms:\n",
    "#             cypher = \"\"\"\n",
    "#             MATCH (e)-[r]-(n)\n",
    "#             WHERE any(term IN $terms WHERE toLower(e.name) CONTAINS toLower(term))\n",
    "#             RETURN e.name AS entity, type(r) AS rel, n.name AS neighbor\n",
    "#             LIMIT 20\n",
    "#             \"\"\"\n",
    "#             rows = graph.query(cypher, params={\"terms\": q_terms})\n",
    "#             if rows:\n",
    "#                 graph_txt = \"Graph facts:\\n\" + \"\\n\".join(\n",
    "#                     f\"- {r['entity']} -[{r['rel']}]-> {r['neighbor']}\" for r in rows\n",
    "#                 )\n",
    "#                 retrieved.append(Document(page_content=graph_txt, metadata={\"source\": \"neo4j\"}))\n",
    "#                 graph_facts = graph_txt\n",
    "\n",
    "#     # Step 3: Compose context and generate\n",
    "#     ctx = format_context(retrieved)\n",
    "#     msg = chain.invoke({\"question\": question, \"context\": ctx})\n",
    "        \n",
    "#     return msg, retrieved, graph_facts"
   ]
  },
  {
   "cell_type": "code",
   "execution_count": 35,
   "id": "73c815e7",
   "metadata": {},
   "outputs": [],
   "source": [
    "# ########################################\n",
    "# # Eye Balling Test\n",
    "# ########################################\n",
    "\n",
    "# # synthetic question \n",
    "# q = '''\"who testified in the Senate Blue Ribbon Committee?\"'''"
   ]
  },
  {
   "cell_type": "code",
   "execution_count": 36,
   "id": "ec1d33e9",
   "metadata": {},
   "outputs": [],
   "source": [
    "# resp = query(q)\n",
    "# msg, retrieved, graph_facts = resp\n",
    "\n",
    "# print(check_rank(retrieved, 're rank'))\n",
    "\n",
    "# from IPython.display import Markdown, display\n",
    "# display(Markdown(msg.content,))"
   ]
  },
  {
   "cell_type": "markdown",
   "id": "ebc864e9",
   "metadata": {},
   "source": [
    "**Question 2**"
   ]
  },
  {
   "cell_type": "code",
   "execution_count": 37,
   "id": "18ab907c",
   "metadata": {},
   "outputs": [],
   "source": [
    "# resp = query(q2)\n",
    "# msg, retrieved, graph_facts = resp\n",
    "\n",
    "# print(check_rank(retrieved, 're rank'))\n",
    "\n",
    "# from IPython.display import Markdown, display\n",
    "# display(Markdown(msg.content,))"
   ]
  },
  {
   "cell_type": "markdown",
   "id": "788efbdc",
   "metadata": {},
   "source": [
    "**Question 3**"
   ]
  },
  {
   "cell_type": "code",
   "execution_count": 38,
   "id": "403901d2",
   "metadata": {},
   "outputs": [],
   "source": [
    "# resp = query(q3)\n",
    "# msg, retrieved, graph_facts = resp\n",
    "\n",
    "# print(check_rank(retrieved, 're rank'))\n",
    "\n",
    "# from IPython.display import Markdown, display\n",
    "# display(Markdown(msg.content,))"
   ]
  },
  {
   "cell_type": "markdown",
   "id": "379c08f0",
   "metadata": {},
   "source": [
    "**Question 4**"
   ]
  },
  {
   "cell_type": "code",
   "execution_count": 39,
   "id": "e5f08cdd",
   "metadata": {},
   "outputs": [],
   "source": [
    "# resp = query(q4)\n",
    "# msg, retrieved, graph_facts = resp\n",
    "\n",
    "# print(check_rank(retrieved, 're rank'))\n",
    "\n",
    "# from IPython.display import Markdown, display\n",
    "# display(Markdown(msg.content,))"
   ]
  },
  {
   "cell_type": "markdown",
   "id": "ce2bdd48",
   "metadata": {},
   "source": [
    "# Langgraph Orchestration"
   ]
  },
  {
   "cell_type": "markdown",
   "id": "018e4b12",
   "metadata": {},
   "source": [
    "## Tools"
   ]
  },
  {
   "cell_type": "code",
   "execution_count": 156,
   "id": "f994edd1",
   "metadata": {},
   "outputs": [],
   "source": [
    "from langchain.tools import tool\n",
    "from typing import List\n",
    "\n",
    "# Hybrid + rerank\n",
    "@tool\n",
    "def hybrid_search_tool(query: str) -> str:\n",
    "    \"\"\"Search across documents using a hybrid retriever and re-ranker, returning readable snippets.\"\"\"\n",
    "    try:\n",
    "        docs = hybrid_rerank_retriever.get_relevant_documents(query)  # <— renamed instance\n",
    "    except Exception as e:\n",
    "        return f\"[error querying retriever: {e}]\"\n",
    "\n",
    "    if not docs:\n",
    "        return \"I found no relevant information in the indexed documents.\"\n",
    "\n",
    "    lines: List[str] = []\n",
    "    for i, d in enumerate(docs, 1):\n",
    "        meta = getattr(d, \"metadata\", {}) or {}\n",
    "        src = meta.get(\"source\") # or meta.get(\"file_path\") or meta.get(\"id\") or \"unknown\"\n",
    "        relevance_score = meta.get(\"relevance_score\")\n",
    "        lines.append(f\"Result {i} — score:{relevance_score} — source: {src} — \\n\\n{d.page_content}\")\n",
    "\n",
    "    return \"\\n\\n\".join(lines)\n",
    "\n",
    "\n",
    "# Optional knowledge graph tool \n",
    "@tool\n",
    "def graph_search_tool(term: str, limit: int = 10) -> str:\n",
    "    \"\"\"Look up a term in the Neo4j fulltext index and list neighboring relationships.\"\"\"\n",
    "    query = \"\"\"\n",
    "    CALL db.index.fulltext.queryNodes('entity_fulltext', $q) YIELD node\n",
    "    WITH node\n",
    "    MATCH (node)-[r]-(n2)\n",
    "    RETURN coalesce(node.name,node.id,node.title,node.value) AS entity,\n",
    "           type(r) AS rel,\n",
    "           coalesce(n2.name,n2.id,n2.title,n2.value) AS neighbor\n",
    "    LIMIT $limit\n",
    "    \"\"\"\n",
    "    try:\n",
    "        rows = graph.run(query, q=term, limit=limit)  # .run for py2neo; adjust for your driver\n",
    "    except Exception as e:\n",
    "        return f\"[error querying graph: {e}]\"\n",
    "\n",
    "    # rows is a Cursor in py2neo; materialize to list of dicts\n",
    "    results = [dict(r) for r in rows]\n",
    "    if not results:\n",
    "        return f\"[no results for '{term}']\"\n",
    "\n",
    "    lines = [f\"- {r['entity']} -[{r['rel']}]-> {r['neighbor']}\" for r in results]\n",
    "    return \"\\n\".join(lines)\n",
    "\n",
    "\n",
    "############################################################################################\n",
    "#TEST\n",
    "# Define your tool\n",
    "@tool\n",
    "def get_weather(city: str) -> str:\n",
    "    \"\"\"Gets the current weather for a given city.\"\"\"\n",
    "    print(f\"--- Executing get_weather tool for {city} ---\")\n",
    "    if \"antipolo\" in city.lower():\n",
    "        return \"The weather in Antipolo is currently 28°C and partly cloudy.\"\n",
    "    else:\n",
    "        return f\"Sorry, I don't have weather information for {city}.\"\n",
    "\n",
    "#############################################################################################\n",
    "\n",
    "\n",
    "tools = [get_weather, hybrid_search_tool, graph_search_tool]\n",
    "\n",
    "# LangChain (LCEL) style binding:\n",
    "model = llm_gen.bind_tools(tools,tool_choice=\"auto\")"
   ]
  },
  {
   "cell_type": "code",
   "execution_count": 157,
   "id": "51c2ced9",
   "metadata": {},
   "outputs": [
    {
     "data": {
      "text/plain": [
       "RunnableBinding(bound=ChatDeepInfra(model_name='meta-llama/Meta-Llama-3.1-70B-Instruct', deepinfra_api_token='Aqaz1fN9vn5oWeqdAp6BZg04vTf2Iv8V', temperature=0.0, model_kwargs={}, max_tokens=1024), kwargs={'tools': [{'type': 'function', 'function': {'name': 'get_weather', 'description': 'Gets the current weather for a given city.', 'parameters': {'properties': {'city': {'type': 'string'}}, 'required': ['city'], 'type': 'object'}}}, {'type': 'function', 'function': {'name': 'hybrid_search_tool', 'description': 'Search across documents using a hybrid retriever and re-ranker, returning readable snippets.', 'parameters': {'properties': {'query': {'type': 'string'}}, 'required': ['query'], 'type': 'object'}}}, {'type': 'function', 'function': {'name': 'graph_search_tool', 'description': 'Look up a term in the Neo4j fulltext index and list neighboring relationships.', 'parameters': {'properties': {'term': {'type': 'string'}, 'limit': {'default': 10, 'type': 'integer'}}, 'required': ['term'], 'type': 'object'}}}], 'tool_choice': 'auto'}, config={}, config_factories=[])"
      ]
     },
     "execution_count": 157,
     "metadata": {},
     "output_type": "execute_result"
    }
   ],
   "source": [
    "model"
   ]
  },
  {
   "cell_type": "markdown",
   "id": "ba754b69",
   "metadata": {},
   "source": [
    "## Agent state | Prompt"
   ]
  },
  {
   "cell_type": "code",
   "execution_count": 158,
   "id": "a74f5a6b",
   "metadata": {},
   "outputs": [],
   "source": [
    "from typing import TypedDict, Sequence, Optional\n",
    "from typing_extensions import Annotated\n",
    "from langchain_core.messages import BaseMessage, SystemMessage\n",
    "from langgraph.graph import add_messages\n",
    "\n",
    "class AgentState(TypedDict):\n",
    "    messages: Annotated[Sequence[BaseMessage], add_messages]\n",
    "\n",
    "\n",
    "system_prompt = '''\n",
    "You are an intelligent AI assistant that answers questions STRICTLY based on retrieved sources.\n",
    "\n",
    "Grounding & scope\n",
    "- Assume the user’s query refers to the available sources unless stated otherwise.\n",
    "- If the answer is not supported by the sources, say you don’t have sufficient information and suggest what to retrieve next. Do not guess.\n",
    "\n",
    "Tools\n",
    "- Use the Hybrid Retrieval tool and/or the Graph Knowledge tool as needed.\n",
    "- Prefer Hybrid Retrieval for lexical/semantic lookups; prefer Graph Knowledge for entities/relations and multi-hop questions.\n",
    "- It’s OK to call both; if using both, retrieve first, then use graph results to cross-check or fill gaps.\n",
    "\n",
    "Citations\n",
    "- Cite every non-obvious claim with source IDs (e.g., `[src: <doc_id>#<chunk>]`). Include multiple citations if helpful.\n",
    "- Do not fabricate citations. If you’re unsure, say so.\n",
    "\n",
    "Answer quality\n",
    "- Be concise, direct, and neutral. No marketing fluff.\n",
    "- Summarize; don’t copy long passages.\n",
    "- If sources conflict, note the disagreement and present the most supported view.\n",
    "\n",
    "Limits & safety\n",
    "- Don’t reveal chain-of-thought or internal reasoning. Provide only final answers and short rationales.\n",
    "- Don’t output tool call traces.\n",
    "\n",
    "Output format\n",
    "- Start with a 1–2 sentence answer.\n",
    "- Follow with a short bulleted “Why this is correct” section with citations.\n",
    "- Optionally add a “Next steps” bullet if more retrieval would help.\n",
    "'''\n"
   ]
  },
  {
   "cell_type": "markdown",
   "id": "60eae984",
   "metadata": {},
   "source": [
    "## Nodes"
   ]
  },
  {
   "cell_type": "code",
   "execution_count": 184,
   "id": "59547b07",
   "metadata": {},
   "outputs": [],
   "source": [
    "##############################\n",
    "# llm Agent\n",
    "##############################\n",
    "def call_llm_with_tools(state:AgentState) -> AgentState:\n",
    "    '''Function to call the LLM with the current state.'''\n",
    "    messages = list(state['messages'])\n",
    "    messages = [SystemMessage(content=system_prompt)] + messages\n",
    "    messages = model.invoke(messages)\n",
    "    return {'messages': [messages]}\n",
    "\n",
    "\n",
    "##############################\n",
    "# Router\n",
    "##############################\n",
    "# checks whether the last message object has an attribute called tool_calls\n",
    "# if it does proceed if doesnt \"END\"\n",
    "# hasattr(obj, name) → bool (0 is false)\n",
    "# def router(state: AgentState):\n",
    "#     'Check if the last message contain tool calls'\n",
    "#     result = state['messages'][-1]\n",
    "#     return hasattr(result, 'tool_calls') and len(result.tool_calls) > 0\n",
    "\n",
    "def router(state: AgentState):\n",
    "    last = state[\"messages\"][-1]\n",
    "    if hasattr(last, \"tool_calls\") and last.tool_calls:\n",
    "        return True          # must match the key used in add_conditional_edges\n",
    "    return False             # same here\n",
    "\n",
    "\n",
    "\n",
    "tools_dict = {our_tool.name: our_tool for our_tool in tools}\n",
    "\n",
    "\n",
    "# def take_action(state: AgentState) -> AgentState:\n",
    "#     tool_calls = state['messages'][-1].tool_calls\n",
    "#     results = []\n",
    "\n",
    "#     for t in tool_calls:\n",
    "#         print(f\"Calling Tool: {t['name']} with query: {t['args'].get('query', 'No query provided')}\")\n",
    "\n",
    "\n",
    "#         if t['name'] not in tools_dict:          # check if tool exists\n",
    "#             print(f\"\\nTool: {t['name']} does not exist.\")\n",
    "#             result = \"Incorrect Tool Name. Please retry and select a tool from the list of available tools.\"\n",
    "#         else:\n",
    "#             result = tools_dict[t['name']].invoke(t['args'].get('query', \"\"))\n",
    "#             print(f\"Result length: {len(str(result))}\")\n",
    "\n",
    "#         # append ToolMessage\n",
    "#         results.append(\n",
    "#             ToolMessage(\n",
    "#                 tool_call_id=t['id'],\n",
    "#                 name=t['name'],\n",
    "#                 content=str(result)\n",
    "#             )\n",
    "#         )\n",
    "\n",
    "#     print(\"Tools execution complete. Back to the model!\")\n",
    "#     print(type(results), results)   # should be <class 'list'>\n",
    "#     return {'messages': results}\n",
    "\n",
    "\n",
    "# def take_action(state: AgentState) -> AgentState:\n",
    "#     tool_calls = state['messages'][-1].tool_calls\n",
    "#     results = []\n",
    "\n",
    "#     for t in tool_calls:\n",
    "#         # Correctly log the actual arguments being passed\n",
    "#         print(f\"Calling Tool: {t['name']} with args: {t['args']}\")\n",
    "\n",
    "#         if t['name'] not in tools_dict:\n",
    "#             print(f\"\\nTool: {t['name']} does not exist.\")\n",
    "#             result = \"Incorrect Tool Name. Please retry and select a tool from the list of available tools.\"\n",
    "#         else:\n",
    "#             # --- THIS IS THE CRITICAL FIX ---\n",
    "#             # Pass the entire arguments dictionary to the tool's invoke method.\n",
    "#             # LangChain handles mapping the dict keys to the function's parameter names.\n",
    "#             result = tools_dict[t['name']].invoke(t['args'])\n",
    "#             print(f\"Result length: {len(str(result))}\")\n",
    "\n",
    "#         # append ToolMessage\n",
    "#         results.append(\n",
    "#             ToolMessage(\n",
    "#                 tool_call_id=t['id'],\n",
    "#                 name=t['name'],\n",
    "#                 content=str(result)\n",
    "#             )\n",
    "#         )\n",
    "\n",
    "#     print(\"Tools execution complete. Back to the model!\")\n",
    "#     return {'messages': results}\n",
    "\n",
    "def take_action(state: AgentState) -> AgentState:\n",
    "    tool_calls = state['messages'][-1].tool_calls\n",
    "    results = []\n",
    "\n",
    "    for t in tool_calls:\n",
    "        name = t['name']\n",
    "        args = t.get('args', {}) or {}\n",
    "        print(f\"Calling Tool: {name} with args: {args}\")\n",
    "\n",
    "        if name not in tools_dict:\n",
    "            print(f\"\\nTool: {name} does not exist.\")\n",
    "            result = \"Incorrect Tool Name. Please retry and select a tool from the list of available tools.\"\n",
    "        else:\n",
    "            # ✅ Pass the full args dict to the tool\n",
    "            result = tools_dict[name].invoke(args)\n",
    "            print(f\"Result length: {len(str(result))}\")\n",
    "\n",
    "        results.append(\n",
    "            ToolMessage(\n",
    "                tool_call_id=t['id'],\n",
    "                name=name,\n",
    "                content=str(result)\n",
    "            )\n",
    "        )\n",
    "\n",
    "    print(\"Tools execution complete. Back to the model!\")\n",
    "    return {'messages': results}\n"
   ]
  },
  {
   "cell_type": "code",
   "execution_count": 188,
   "id": "b8eb5b6e",
   "metadata": {},
   "outputs": [
    {
     "data": {
      "text/plain": [
       "{'get_weather': StructuredTool(name='get_weather', description='Gets the current weather for a given city.', args_schema=<class 'langchain_core.utils.pydantic.get_weather'>, func=<function get_weather at 0x0000027BAFEC9120>),\n",
       " 'hybrid_search_tool': StructuredTool(name='hybrid_search_tool', description='Search across documents using a hybrid retriever and re-ranker, returning readable snippets.', args_schema=<class 'langchain_core.utils.pydantic.hybrid_search_tool'>, func=<function hybrid_search_tool at 0x0000027BAFEC93A0>),\n",
       " 'graph_search_tool': StructuredTool(name='graph_search_tool', description='Look up a term in the Neo4j fulltext index and list neighboring relationships.', args_schema=<class 'langchain_core.utils.pydantic.graph_search_tool'>, func=<function graph_search_tool at 0x0000027BAFECA2A0>)}"
      ]
     },
     "execution_count": 188,
     "metadata": {},
     "output_type": "execute_result"
    }
   ],
   "source": [
    "tools_dict"
   ]
  },
  {
   "cell_type": "markdown",
   "id": "55d988d4",
   "metadata": {},
   "source": [
    "## Graph"
   ]
  },
  {
   "cell_type": "code",
   "execution_count": 189,
   "id": "5c2f1853",
   "metadata": {},
   "outputs": [],
   "source": [
    "from langgraph.graph import StateGraph, END\n",
    "from langgraph.checkpoint.memory import MemorySaver   # optional but handy\n",
    "# checkpointer = SqliteSaver.from_file(\"checkpoints.db\") # for persistent across runs\n",
    "\n",
    "graph = StateGraph(AgentState)\n",
    "graph.add_node('llm_with_tool', call_llm_with_tools)\n",
    "graph.add_node('take_action', take_action)\n",
    "\n",
    "graph.add_conditional_edges(\n",
    "    'llm_with_tool',\n",
    "    router, # hasstr tool_calls\n",
    "    {True:'take_action', False: END}\n",
    ")\n",
    "\n",
    "graph.add_edge('take_action', 'llm_with_tool')\n",
    "graph.set_entry_point('llm_with_tool')\n",
    "\n",
    "memory = MemorySaver() \n",
    "rag_agent =graph.compile(checkpointer=memory)\n"
   ]
  },
  {
   "cell_type": "code",
   "execution_count": 179,
   "id": "a0e5bff7",
   "metadata": {},
   "outputs": [
    {
     "name": "stdout",
     "output_type": "stream",
     "text": [
      "---\n",
      "config:\n",
      "  flowchart:\n",
      "    curve: linear\n",
      "---\n",
      "graph TD;\n",
      "\t__start__([<p>__start__</p>]):::first\n",
      "\tllm_with_tool(llm_with_tool)\n",
      "\ttake_action(take_action)\n",
      "\t__end__([<p>__end__</p>]):::last\n",
      "\t__start__ --> llm_with_tool;\n",
      "\tllm_with_tool -. &nbsp;False&nbsp; .-> __end__;\n",
      "\tllm_with_tool -. &nbsp;True&nbsp; .-> take_action;\n",
      "\ttake_action --> llm_with_tool;\n",
      "\tclassDef default fill:#f2f0ff,line-height:1.2\n",
      "\tclassDef first fill-opacity:0\n",
      "\tclassDef last fill:#bfb6fc\n",
      "\n"
     ]
    }
   ],
   "source": [
    "print(rag_agent.get_graph().draw_mermaid())"
   ]
  },
  {
   "attachments": {
    "image.png": {
     "image/png": "[encoded data removed]"
    }
   },
   "cell_type": "markdown",
   "id": "2702b3bf",
   "metadata": {},
   "source": [
    "![image.png](attachment:image.png)"
   ]
  },
  {
   "cell_type": "code",
   "execution_count": 192,
   "id": "818142ff",
   "metadata": {},
   "outputs": [],
   "source": [
    "from IPython.display import Markdown, display\n",
    "from langchain_core.messages import HumanMessage, AIMessage, ToolMessage\n",
    "import textwrap\n",
    "\n",
    "def testing(question: str, thread_id: str):\n",
    "    \n",
    "    initial = {\"messages\": [HumanMessage(content=question)]}\n",
    "    config = {\"configurable\": {\"thread_id\": thread_id}}\n",
    "    final_state = rag_agent.invoke(initial, config=config)\n",
    "\n",
    "    for msg in final_state[\"messages\"]:\n",
    "        if msg.type == \"human\":\n",
    "            display(Markdown(f\"**👤** {msg.content}\"))\n",
    "        elif msg.type == \"ai\":\n",
    "            display(Markdown(f\"**🤖 Assistant**  \\n{msg.content}\"))\n",
    "        elif msg.type == \"tool\":\n",
    "            short = textwrap.shorten(msg.content, 800, placeholder=\" …\") # uncommnet to make output shorter and replace msg.content = shorts\n",
    "            display(Markdown(f\"**🔍** `{msg.name}`  \\n```text\\n{msg.content}\\n```\"))\n",
    "\n"
   ]
  },
  {
   "cell_type": "code",
   "execution_count": 203,
   "id": "c367cd8c",
   "metadata": {},
   "outputs": [
    {
     "data": {
      "text/markdown": [
       "**👤** who testified in the Senate Blue Ribbon Committee?"
      ],
      "text/plain": [
       "<IPython.core.display.Markdown object>"
      ]
     },
     "metadata": {},
     "output_type": "display_data"
    },
    {
     "data": {
      "text/markdown": [
       "**🤖 Assistant**  \n",
       "<function=hybrid_search_tool>{\"query\": \"Senate Blue Ribbon Committee testimony\"}<function>"
      ],
      "text/plain": [
       "<IPython.core.display.Markdown object>"
      ]
     },
     "metadata": {},
     "output_type": "display_data"
    },
    {
     "data": {
      "text/markdown": [
       "**👤** who testified in the Senate Blue Ribbon Committee?"
      ],
      "text/plain": [
       "<IPython.core.display.Markdown object>"
      ]
     },
     "metadata": {},
     "output_type": "display_data"
    },
    {
     "data": {
      "text/markdown": [
       "**👤** who testified in the Senate Blue Ribbon Committee?"
      ],
      "text/plain": [
       "<IPython.core.display.Markdown object>"
      ]
     },
     "metadata": {},
     "output_type": "display_data"
    },
    {
     "data": {
      "text/markdown": [
       "**🤖 Assistant**  \n",
       "I don't have sufficient information to answer that question. \n",
       "\n",
       "<function=hybrid_search_tool>{\"query\": \"Senate Blue Ribbon Committee testimony\"}<function>"
      ],
      "text/plain": [
       "<IPython.core.display.Markdown object>"
      ]
     },
     "metadata": {},
     "output_type": "display_data"
    }
   ],
   "source": [
    "prompt = \"what is the weather in antipolo\"\n",
    "prompt1 = \"Who is Discaya?\"\n",
    "p = 'who testified in the Senate Blue Ribbon Committee?'\n",
    "\n",
    "testing(p, 161)"
   ]
  },
  {
   "cell_type": "code",
   "execution_count": null,
   "id": "8cc0217d",
   "metadata": {},
   "outputs": [],
   "source": []
  },
  {
   "cell_type": "code",
   "execution_count": null,
   "id": "c33c3e6a",
   "metadata": {},
   "outputs": [],
   "source": []
  },
  {
   "cell_type": "code",
   "execution_count": null,
   "id": "2f0b1d73",
   "metadata": {},
   "outputs": [],
   "source": []
  },
  {
   "cell_type": "code",
   "execution_count": 167,
   "id": "12161834",
   "metadata": {},
   "outputs": [],
   "source": [
    "#TEST\n",
    "# Define your tool\n",
    "@tool\n",
    "def get_weather_1(city: str) -> str:\n",
    "    \"\"\"Gets the current weather for a given city.\"\"\"\n",
    "    print(f\"--- Executing get_weather tool for {city} ---\")\n",
    "    if \"antipolo\" in city.lower():\n",
    "        return \"The weather in Antipolo is currently 28°C and partly cloudy.\"\n",
    "    else:\n",
    "        return f\"Sorry, I don't have weather information for {city}.\"\n",
    "\n",
    "# Initialize the ChatDeepInfra model\n",
    "llm1 = llm_gen\n",
    "\n",
    "# Bind the tool to the model\n",
    "llm_with_tools1 = llm1.bind_tools([get_weather_1])\n",
    "\n",
    "# In a LangGraph agent, you would then use this llm_with_tools instance\n",
    "# and a ToolExecutor to handle the tool calls."
   ]
  },
  {
   "cell_type": "code",
   "execution_count": 168,
   "id": "aad2fbfc",
   "metadata": {},
   "outputs": [],
   "source": [
    "prompt = \"what is the weather in antipolo\"\n",
    "messages = [HumanMessage(content=prompt)]\n",
    "response = llm_with_tools1.invoke(messages)"
   ]
  },
  {
   "cell_type": "code",
   "execution_count": 169,
   "id": "21abe066",
   "metadata": {},
   "outputs": [
    {
     "data": {
      "text/plain": [
       "[HumanMessage(content='what is the weather in antipolo', additional_kwargs={}, response_metadata={})]"
      ]
     },
     "execution_count": 169,
     "metadata": {},
     "output_type": "execute_result"
    }
   ],
   "source": [
    "messages"
   ]
  },
  {
   "cell_type": "code",
   "execution_count": 170,
   "id": "0c8113c5",
   "metadata": {},
   "outputs": [
    {
     "data": {
      "text/plain": [
       "AIMessage(content='', additional_kwargs={}, response_metadata={'token_usage': {'prompt_tokens': 225, 'total_tokens': 242, 'completion_tokens': 17, 'estimated_cost': 9.680000000000001e-05, 'prompt_tokens_details': None}, 'model': 'meta-llama/Meta-Llama-3.1-70B-Instruct', 'finish_reason': 'tool_calls'}, id='run--693cf9a3-307b-407b-8419-99feb3329ff5-0', tool_calls=[{'name': 'get_weather_1', 'args': {'city': 'Antipolo'}, 'id': 'call_JGuFFqvmuJoREdAis8ECyad7', 'type': 'tool_call'}])"
      ]
     },
     "execution_count": 170,
     "metadata": {},
     "output_type": "execute_result"
    }
   ],
   "source": [
    "response"
   ]
  },
  {
   "cell_type": "code",
   "execution_count": 171,
   "id": "65a873c5",
   "metadata": {},
   "outputs": [
    {
     "name": "stdout",
     "output_type": "stream",
     "text": [
      "--- Executing get_weather tool for Antipolo ---\n",
      "\n",
      "--- Tool Results ---\n",
      "[ToolMessage(content='The weather in Antipolo is currently 28°C and partly cloudy.', tool_call_id='call_JGuFFqvmuJoREdAis8ECyad7')]\n",
      "\n",
      "--- Final Model Response ---\n",
      "Please note that the actual weather in Antipolo may have changed since the last update.\n"
     ]
    }
   ],
   "source": [
    "messages.append(response) # Add the model's response to the message history\n",
    "\n",
    "tool_results = []\n",
    "for tool_call in response.tool_calls:\n",
    "    # Get the output of the tool\n",
    "    tool_output = get_weather_1.invoke(tool_call[\"args\"])\n",
    "    # Create a ToolMessage to send back to the model\n",
    "    tool_results.append(ToolMessage(content=str(tool_output), tool_call_id=tool_call[\"id\"]))\n",
    "\n",
    "print(\"\\n--- Tool Results ---\")\n",
    "print(tool_results)\n",
    "\n",
    "# STEP 3: Send the tool result back to the model\n",
    "messages.extend(tool_results) # Add the tool results to the message history\n",
    "\n",
    "final_response = llm_with_tools1.invoke(messages)\n",
    "\n",
    "print(\"\\n--- Final Model Response ---\")\n",
    "print(final_response.content)"
   ]
  },
  {
   "cell_type": "markdown",
   "id": "64e2b39e",
   "metadata": {},
   "source": [
    "# FAST API"
   ]
  },
  {
   "cell_type": "code",
   "execution_count": null,
   "id": "6bfe6bbf",
   "metadata": {},
   "outputs": [],
   "source": []
  },
  {
   "cell_type": "code",
   "execution_count": 172,
   "id": "fa2c8941",
   "metadata": {},
   "outputs": [],
   "source": [
    "import uuid\n",
    "from typing import Optional, List, Any, Dict\n",
    "\n",
    "from fastapi import FastAPI, HTTPException\n",
    "from pydantic import BaseModel, Field\n",
    "from langchain_core.messages import HumanMessage\n",
    "\n",
    "\n",
    "app = FastAPI(title=\"LangGraph RAG API\", version=\"1.0.0\")\n",
    "\n",
    "####################################\n",
    "# SCHEMAS\n",
    "####################################\n",
    "class AskRequest(BaseModel):\n",
    "    question: str = Field(..., description=\"User question\")\n",
    "    thread_id: Optional[str] = Field(None, description=\"Optional session/thread id\")\n",
    "\n",
    "class AskResponse(BaseModel):\n",
    "    thread_id: str\n",
    "    answer: str\n",
    "\n",
    "####################################\n",
    "# FUNCTIONS\n",
    "####################################\n",
    "def last_ai_text(messages: List[object]) -> str:\n",
    "    for m in reversed(messages or []):\n",
    "        if getattr(m, \"type\", None) in (\"ai\", \"assistant\"):\n",
    "            c = getattr(m, \"content\", None)\n",
    "            if isinstance(c, str):\n",
    "                return c\n",
    "    return \"\"\n",
    "\n",
    "\n",
    "####################################\n",
    "# ENDPOINTS\n",
    "####################################\n",
    "@app.get(\"/health\")\n",
    "def health():\n",
    "    return {\"status\": \"ok\"}\n",
    "\n",
    "@app.post(\"/ask\", response_model=AskResponse)\n",
    "def ask(req: AskRequest):\n",
    "    try:\n",
    "        thread_id = req.thread_id or str(uuid.uuid4())\n",
    "        config = {\"configurable\": {\"thread_id\": thread_id}}\n",
    "        initial = {\"messages\": [HumanMessage(content=req.question)]}\n",
    "\n",
    "        final_state = rag_agent.invoke(initial, config=config)\n",
    "        answer = last_ai_text(final_state.get(\"messages\", [])) or \"[no answer]\"\n",
    "        return AskResponse(thread_id=thread_id, answer=answer)\n",
    "    except Exception as e:\n",
    "        raise HTTPException(status_code=500, detail=str(e))"
   ]
  },
  {
   "cell_type": "code",
   "execution_count": 173,
   "id": "904349cf",
   "metadata": {},
   "outputs": [
    {
     "ename": "NameError",
     "evalue": "name 'start_server' is not defined",
     "output_type": "error",
     "traceback": [
      "\u001b[31m---------------------------------------------------------------------------\u001b[39m",
      "\u001b[31mNameError\u001b[39m                                 Traceback (most recent call last)",
      "\u001b[36mCell\u001b[39m\u001b[36m \u001b[39m\u001b[32mIn[173]\u001b[39m\u001b[32m, line 1\u001b[39m\n\u001b[32m----> \u001b[39m\u001b[32m1\u001b[39m \u001b[43mstart_server\u001b[49m()\n",
      "\u001b[31mNameError\u001b[39m: name 'start_server' is not defined"
     ]
    }
   ],
   "source": [
    "start_server()"
   ]
  },
  {
   "cell_type": "code",
   "execution_count": null,
   "id": "6a88f5f7",
   "metadata": {},
   "outputs": [],
   "source": [
    "stop_server()"
   ]
  },
  {
   "cell_type": "code",
   "execution_count": null,
   "id": "f2ebbd98",
   "metadata": {},
   "outputs": [],
   "source": [
    "import threading, time\n",
    "import nest_asyncio\n",
    "nest_asyncio.apply()\n",
    "\n",
    "import uvicorn\n",
    "\n",
    "server = None\n",
    "server_thread = None\n",
    "\n",
    "def start_server(host=\"0.0.0.0\", port=8000, reload=False):\n",
    "    global server, server_thread\n",
    "    if server is not None:\n",
    "        print(\"Server already running.\")\n",
    "        return\n",
    "    config = uvicorn.Config(app, host=host, port=port, reload=reload, log_level=\"info\")\n",
    "    server = uvicorn.Server(config)\n",
    "\n",
    "    def _run():\n",
    "        # blocks until server.should_exit is set\n",
    "        import asyncio\n",
    "        asyncio.run(server.serve())\n",
    "\n",
    "    server_thread = threading.Thread(target=_run, daemon=True)\n",
    "    server_thread.start()\n",
    "    # tiny wait so logs appear\n",
    "    time.sleep(0.5)\n",
    "    print(f\"Started Uvicorn on http://{host}:{port}\")\n",
    "\n",
    "def stop_server():\n",
    "    global server, server_thread\n",
    "    if server is None:\n",
    "        print(\"No server to stop.\")\n",
    "        return\n",
    "    server.should_exit = True\n",
    "    server.force_exit = True\n",
    "    if server_thread and server_thread.is_alive():\n",
    "        server_thread.join(timeout=5)\n",
    "    server = None\n",
    "    server_thread = None\n",
    "    print(\"Server stopped.\")\n"
   ]
  },
  {
   "cell_type": "code",
   "execution_count": null,
   "id": "cdef206f",
   "metadata": {},
   "outputs": [],
   "source": []
  },
  {
   "cell_type": "code",
   "execution_count": null,
   "id": "b561bba6",
   "metadata": {},
   "outputs": [],
   "source": []
  },
  {
   "cell_type": "code",
   "execution_count": null,
   "id": "1f0396ad",
   "metadata": {},
   "outputs": [],
   "source": []
  },
  {
   "cell_type": "markdown",
   "id": "b0ad5fc4",
   "metadata": {},
   "source": [
    "# Streamlit"
   ]
  },
  {
   "cell_type": "code",
   "execution_count": null,
   "id": "cabb33b9",
   "metadata": {},
   "outputs": [],
   "source": []
  },
  {
   "cell_type": "code",
   "execution_count": null,
   "id": "019fe25f",
   "metadata": {},
   "outputs": [],
   "source": []
  },
  {
   "cell_type": "markdown",
   "id": "2a191540",
   "metadata": {},
   "source": [
    "# Others"
   ]
  },
  {
   "cell_type": "markdown",
   "id": "d62d9a9d",
   "metadata": {},
   "source": [
    "**Router policy**\n",
    "\n",
    "- Run hybrid (dense+BM25) → rerank by default.\n",
    "\n",
    "1. If the query mentions entities/relations or asks why/how/chain, add graph_search and merge into rerank.\n",
    "2. If the query is boolean/keyword-specific (“exact phrase”, IDs, SKUs), lean BM25 heavier or only BM25.\n",
    "3. If no good hits (low scores/top-k below threshold), fall back to query expansion (LLM rewrites) then retry.\n",
    "\n",
    ">**Run all three only when the query (or your eval) proves it helps.**\n",
    "\n",
    ">The pattern that actually wins in production is:\n",
    "1. Baseline = dense + keyword + rerank.\n",
    "2. Router decides if the question needs the graph (entities, multi-hop, lineage).\n",
    "3. Eval loop keeps the graph enabled only if it raises accuracy ≥ 2–3 % at acceptable cost/latency.\n",
    "4. Blindly forcing vector + keyword + graph + rerank on every query adds latency and cost without guaranteed accuracy gains."
   ]
  },
  {
   "cell_type": "markdown",
   "id": "ce16ced4",
   "metadata": {},
   "source": [
    "## Pdf \n",
    "PDF is design for presentation for human not for machine to understand very well. \n",
    "Treat PDF as an input format not your knowledge base for RAG application."
   ]
  },
  {
   "cell_type": "markdown",
   "id": "9cb1979e",
   "metadata": {},
   "source": [
    "**Chunking Strategy:** PDFs are often unstructured, so they need to be broken down into smaller pieces of text (chunks). If the chunks are too large, the embeddings might contain too much irrelevant information, leading to a loss of key semantic meaning. If they are too small, the context might be lost, and the system might not have enough information to answer a query."
   ]
  },
  {
   "cell_type": "code",
   "execution_count": null,
   "id": "822c61d3",
   "metadata": {},
   "outputs": [],
   "source": [
    "from langchain_community.document_loaders import PyPDFLoader  \n",
    "from langchain.text_splitter import RecursiveCharacterTextSplitter\n",
    "\n",
    "# pdf_path \n",
    "# pdf_path = 'documents/Company_Policy_Manual.pdf'\n",
    "\n",
    "# Note: This T-shoot manual in pdf format having a mitss and match result\n",
    "pdf_path = 'documents/Troubleshoot_Manual.pdf' \n",
    "\n",
    "pdf_loader = PyPDFLoader(pdf_path)\n",
    "\n",
    "# load pdf_loader into variable pages\n",
    "try:\n",
    "    pages = pdf_loader.load()\n",
    "    print(f'Pdf is loaded and has {len(pages)} pages')\n",
    "except Exception as e:\n",
    "    print(f\"error in loading pdf {e}\")\n",
    "    raise\n",
    "\n",
    "# chunking\n",
    "# start experiment with chunk_size=1000 and chunk_overlap=200.\n",
    "text_splitter = RecursiveCharacterTextSplitter(\n",
    "    chunk_size = 600,\n",
    "    chunk_overlap = 250\n",
    ")\n",
    "\n",
    "# apply textsplitter to all our pages\n",
    "pages_split = text_splitter.split_documents(pages)"
   ]
  },
  {
   "cell_type": "markdown",
   "id": "bda15d37",
   "metadata": {},
   "source": [
    "## Chroma DB"
   ]
  },
  {
   "cell_type": "code",
   "execution_count": null,
   "id": "90c75d33",
   "metadata": {},
   "outputs": [],
   "source": [
    "import os\n",
    "from langchain_chroma import Chroma\n",
    "\n",
    "persistent_directory = './chroma_db'\n",
    "\n",
    "collection_name = 'Trouble-Shooting'\n",
    "# collection_name = 'Policy'\n",
    "\n",
    "if not os.path.exists(persistent_directory):\n",
    "    os.mkdir(persistent_directory)\n",
    "\n",
    "# create chroma vectorstore\n",
    "try: \n",
    "    vectorstore= Chroma.from_documents(\n",
    "        documents = pages_split,\n",
    "        embedding = embeddings,\n",
    "        persist_directory=persistent_directory,\n",
    "        collection_name = collection_name\n",
    "    )\n",
    "    print(f'Create ChromaDB vector store!')\n",
    "\n",
    "except Exception as e:\n",
    "    print(f'Error setting up ChromaDB: {str()}')\n",
    "    raise"
   ]
  },
  {
   "cell_type": "markdown",
   "id": "22d1efdb",
   "metadata": {},
   "source": [
    "## TOOLS"
   ]
  },
  {
   "cell_type": "code",
   "execution_count": null,
   "id": "07183e5e",
   "metadata": {},
   "outputs": [],
   "source": [
    "from langchain_core.tools import tool\n",
    "\n",
    "retriever = vectorstore.as_retriever(\n",
    "    search_type = 'similarity',\n",
    "    search_kwargs = {\"k\":3}\n",
    ")\n",
    "\n",
    "@tool\n",
    "def retriever_tool(query:str) -> str:\n",
    "    \"\"\"This tool searches and return the information from the documents\"\"\"\n",
    "    docs = retriever.invoke(query)\n",
    "    if not docs:\n",
    "        return 'I found no relevant information about the query in the given documents'\n",
    "    \n",
    "    results = []\n",
    "    for index, doc in enumerate(docs):\n",
    "        results.append(f'Document {index+1}: \\n{doc.page_content}')\n",
    "\n",
    "    return '\\n\\n' .join(results)\n",
    "\n",
    "tools = [retriever_tool]\n",
    "model = model.bind_tools(tools)"
   ]
  },
  {
   "cell_type": "markdown",
   "id": "907a85e1",
   "metadata": {},
   "source": [
    "## AgentState | Agent with tool"
   ]
  },
  {
   "cell_type": "code",
   "execution_count": null,
   "id": "8e2575ee",
   "metadata": {},
   "outputs": [],
   "source": [
    "from typing import TypedDict, Sequence, Optional\n",
    "from typing_extensions import Annotated\n",
    "from langchain_core.messages import BaseMessage, SystemMessage\n",
    "from langgraph.graph import add_messages\n",
    "\n",
    "class AgentState(TypedDict):\n",
    "    messages: Annotated[Sequence[BaseMessage], add_messages]\n",
    "\n",
    "\n",
    "system_prompt = '''\n",
    "You are an intelligent AI assistant who answers questions about the given PDF documents.\n",
    "Assume the user’s query always refers to these documents first.\n",
    "Use the retrieval tool to find relevant excerpts, and always cite the specific part of the document you use to answer the query.\n",
    "'''\n",
    "\n",
    "# llm Agent\n",
    "def call_llm_with_tools(state:AgentState) -> AgentState:\n",
    "    '''Function to call the LLM with the current state.'''\n",
    "    messages = list(state['messages'])\n",
    "    messages = [SystemMessage(content=system_prompt)] + messages\n",
    "    messages = model.invoke(messages)\n",
    "    return {'messages': [messages]}"
   ]
  },
  {
   "cell_type": "markdown",
   "id": "02206a0d",
   "metadata": {},
   "source": [
    "## Router | Retriever Node"
   ]
  },
  {
   "cell_type": "code",
   "execution_count": null,
   "id": "b5c35e9e",
   "metadata": {},
   "outputs": [],
   "source": [
    "#### Router\n",
    "# checks whether the last message object has an attribute called tool_calls\n",
    "# if it does proceed if doesnt \"END\"\n",
    "# hasattr(obj, name) → bool (0 is false)\n",
    "def router(state: AgentState):\n",
    "    'Check if the last message contain tool calls'\n",
    "    result = state['messages'][-1]\n",
    "    return hasattr(result, 'tool_calls') and len(result.tool_calls) > 0\n",
    "\n",
    "\n",
    "\n",
    "###  Retriever Agent ####\n",
    "tools_dict = {our_tool.name: our_tool for our_tool in tools}\n",
    "\n",
    "def take_action(state: AgentState) -> AgentState:\n",
    "    tool_calls = state['messages'][-1].tool_calls\n",
    "    results = []\n",
    "\n",
    "    for t in tool_calls:\n",
    "        print(f\"Calling Tool: {t['name']} with query: {t['args'].get('query', 'No query provided')}\")\n",
    "\n",
    "\n",
    "        if t['name'] not in tools_dict:          # check if tool exists\n",
    "            print(f\"\\nTool: {t['name']} does not exist.\")\n",
    "            result = \"Incorrect Tool Name. Please retry and select a tool from the list of available tools.\"\n",
    "        else:\n",
    "            result = tools_dict[t['name']].invoke(t['args'].get('query', \"\"))\n",
    "            print(f\"Result length: {len(str(result))}\")\n",
    "\n",
    "        # append ToolMessage\n",
    "        results.append(\n",
    "            ToolMessage(\n",
    "                tool_call_id=t['id'],\n",
    "                name=t['name'],\n",
    "                content=str(result)\n",
    "            )\n",
    "        )\n",
    "\n",
    "    print(\"Tools execution complete. Back to the model!\")\n",
    "    print(type(results), results)   # should be <class 'list'>\n",
    "    return {'messages': results}"
   ]
  },
  {
   "cell_type": "markdown",
   "id": "62c639b0",
   "metadata": {},
   "source": [
    "## Graph"
   ]
  },
  {
   "cell_type": "code",
   "execution_count": null,
   "id": "e0891325",
   "metadata": {},
   "outputs": [],
   "source": [
    "from langgraph.graph import StateGraph, END\n",
    "from langgraph.checkpoint.memory import MemorySaver   # optional but handy\n",
    "# checkpointer = SqliteSaver.from_file(\"checkpoints.db\") # for persistent across runs\n",
    "\n",
    "graph = StateGraph(AgentState)\n",
    "graph.add_node('llm_with_tool', call_llm_with_tools)\n",
    "graph.add_node('take_action', take_action)\n",
    "\n",
    "graph.add_conditional_edges(\n",
    "    'llm_with_tool',\n",
    "    router, # hasstr tool_calls\n",
    "    {True:'take_action', False: END}\n",
    ")\n",
    "\n",
    "graph.add_edge('take_action', 'llm_with_tool')\n",
    "graph.set_entry_point('llm_with_tool')\n",
    "\n",
    "memory = MemorySaver() \n",
    "rag_agent =graph.compile(checkpointer=memory)\n",
    "rag_agent"
   ]
  },
  {
   "cell_type": "markdown",
   "id": "f7812aac",
   "metadata": {},
   "source": [
    "## Testing"
   ]
  },
  {
   "cell_type": "code",
   "execution_count": null,
   "id": "f34c241c",
   "metadata": {},
   "outputs": [],
   "source": [
    "from langchain_core.messages import HumanMessage, AIMessage, ToolMessage"
   ]
  },
  {
   "cell_type": "code",
   "execution_count": null,
   "id": "949b69e5",
   "metadata": {},
   "outputs": [],
   "source": [
    "# config = {\"configurable\": {\"thread_id\": \"employee-123\"}}  # or use checkpoint_id if resuming a specific checkpoint\n",
    "# initial = {\n",
    "#     \"messages\": [HumanMessage(content=\"tell me about overtime rules and what is the wethear in Philippines Metro Manila right now?\")],\n",
    "# }\n",
    "\n",
    "# for step in rag_agent.stream(initial, config, stream_mode=\"updates\"):\n",
    "#     print(step)"
   ]
  },
  {
   "cell_type": "code",
   "execution_count": null,
   "id": "3cca53cf",
   "metadata": {},
   "outputs": [],
   "source": [
    "from IPython.display import Markdown, display\n",
    "import textwrap\n",
    "\n",
    "def testing(question: str, thread_id: str):\n",
    "    \n",
    "    initial = {\"messages\": [HumanMessage(content=question)]}\n",
    "    config = {\"configurable\": {\"thread_id\": thread_id}}\n",
    "    final_state = rag_agent.invoke(initial, config=config)\n",
    "\n",
    "    for msg in final_state[\"messages\"]:\n",
    "        if msg.type == \"human\":\n",
    "            display(Markdown(f\"**👤** {msg.content}\"))\n",
    "        elif msg.type == \"ai\":\n",
    "            display(Markdown(f\"**🤖 Assistant**  \\n{msg.content}\"))\n",
    "        elif msg.type == \"tool\":\n",
    "            short = textwrap.shorten(msg.content, 800, placeholder=\" …\")\n",
    "            display(Markdown(f\"**🔍** `{msg.name}`  \\n```text\\n{short}\\n```\"))\n",
    "        "
   ]
  },
  {
   "cell_type": "code",
   "execution_count": null,
   "id": "983b87ca",
   "metadata": {},
   "outputs": [],
   "source": [
    "testing('''Can't connect to internet''', 'test-1')"
   ]
  },
  {
   "cell_type": "code",
   "execution_count": null,
   "id": "4eeb4d2d",
   "metadata": {},
   "outputs": [],
   "source": [
    "testing('''I mean unable to connect to the internet''', 'test-1')\n"
   ]
  },
  {
   "cell_type": "code",
   "execution_count": null,
   "id": "2a9420f4",
   "metadata": {},
   "outputs": [],
   "source": []
  },
  {
   "cell_type": "markdown",
   "id": "fc75fad6",
   "metadata": {},
   "source": [
    "## Whats in the data?"
   ]
  },
  {
   "cell_type": "code",
   "execution_count": null,
   "id": "e0bd8025",
   "metadata": {},
   "outputs": [],
   "source": [
    "import chromadb\n",
    "import pandas as pd\n",
    "import numpy as np # Embeddings are typically NumPy arrays\n",
    "\n",
    "# 1. Connect to your ChromaDB instance\n",
    "client = chromadb.PersistentClient(path=persistent_directory)\n",
    "collection_name = collection_name\n",
    "\n",
    "collection = client.get_collection(collection_name)\n",
    "total_count = collection.count()\n",
    "\n",
    "# 2. Use pagination to retrieve all data, including embeddings\n",
    "all_ids = []\n",
    "all_documents = []\n",
    "all_metadatas = []\n",
    "all_embeddings = [] # This is the new list for your embeddings\n",
    "\n",
    "batch_size = 100\n",
    "offset = 0\n",
    "\n",
    "print(f\"Retrieving {total_count} documents from the '{collection_name}' collection...\")\n",
    "while offset < total_count:\n",
    "    # Explicitly include 'embeddings' in the get() call\n",
    "    results = collection.get(\n",
    "        limit=batch_size,\n",
    "        offset=offset,\n",
    "        include=['documents', 'metadatas', 'embeddings'] # <--- THE KEY CHANGE\n",
    "    )\n",
    "\n",
    "    all_ids.extend(results['ids'])\n",
    "    all_documents.extend(results['documents'])\n",
    "    all_metadatas.extend(results['metadatas'])\n",
    "    all_embeddings.extend(results['embeddings']) # Store the embeddings\n",
    "    offset += batch_size\n",
    "\n",
    "print(\"All documents and embeddings retrieved successfully!\")"
   ]
  },
  {
   "cell_type": "code",
   "execution_count": null,
   "id": "bf2fe5da",
   "metadata": {},
   "outputs": [],
   "source": [
    "# Create a dictionary from your lists\n",
    "pd.set_option('display.max_colwidth', None)\n",
    "data = {\n",
    "    'id': all_ids,\n",
    "    'document': all_documents,\n",
    "    'metadata': all_metadatas,\n",
    "    # 'embedings': all_embeddings #This is the vector representation of the documents  \n",
    "}\n",
    "\n",
    "# Create the pandas DataFrame\n",
    "df = pd.DataFrame(data)"
   ]
  },
  {
   "cell_type": "code",
   "execution_count": null,
   "id": "7128242c",
   "metadata": {},
   "outputs": [],
   "source": [
    "df.sample(3)"
   ]
  },
  {
   "cell_type": "code",
   "execution_count": null,
   "id": "95cc16fe",
   "metadata": {},
   "outputs": [],
   "source": []
  },
  {
   "cell_type": "markdown",
   "id": "588d55d8",
   "metadata": {},
   "source": [
    "## To do.. (for experimentation)\n",
    "\n",
    "1. Fine tune embeding model\n",
    "2. fine tune llm model for the desired dataset"
   ]
  },
  {
   "cell_type": "markdown",
   "id": "4e4ff57e",
   "metadata": {},
   "source": []
  },
  {
   "cell_type": "code",
   "execution_count": 25,
   "id": "c15302ad",
   "metadata": {},
   "outputs": [],
   "source": [
    "response = {\n",
    "  \"messages\": [\n",
    "    {\n",
    "      \"content\": \"Tell me about Discaya?\",\n",
    "      \"additional_kwargs\": {},\n",
    "      \"response_metadata\": {},\n",
    "      \"type\": \"human\",\n",
    "      \"name\": 'null',\n",
    "      \"id\": \"7ae03997-434a-467f-98c9-33db58f7fc88\",\n",
    "    #   \"example\": false\n",
    "    },\n",
    "    {\n",
    "      \"content\": \"\",\n",
    "      \"additional_kwargs\": {},\n",
    "      \"response_metadata\": {\n",
    "        \"token_usage\": {\n",
    "          \"prompt_tokens\": 664,\n",
    "          \"total_tokens\": 697,\n",
    "          \"completion_tokens\": 33,\n",
    "          \"estimated_cost\": 0.00027880000000000005,\n",
    "          \"prompt_tokens_details\":'null'\n",
    "        },\n",
    "        \"model\": \"meta-llama/Meta-Llama-3.1-70B-Instruct\",\n",
    "        \"finish_reason\": \"tool_calls\"\n",
    "      },\n",
    "      \"type\": \"ai\",\n",
    "      \"name\": 'null',\n",
    "      \"id\": \"run--d818d73b-2b2d-4bdf-8bdf-47d0a1cb8265-0\",\n",
    "    #   \"example\": false,\n",
    "      \"tool_calls\": [\n",
    "        {\n",
    "          \"name\": \"build_pinecone_retriever\",\n",
    "          \"args\": {\n",
    "            \"query\": \"Discaya\",\n",
    "            \"alpha\": 0,\n",
    "            \"top_k\": 5\n",
    "          },\n",
    "          \"id\": \"call_visZELlAiuhc08jsTAgONjGN\",\n",
    "          \"type\": \"tool_call\"\n",
    "        }\n",
    "      ],\n",
    "      \"invalid_tool_calls\": [],\n",
    "      \"usage_metadata\": 'null'\n",
    "    },\n",
    "    {\n",
    "      \"content\": \"[{'score': 0.5063723, 'content': '### **The Discaya Revelations**\\\\n\\\\n**On September 1, 2025,** the first Blue Ribbon hearing ended with several contractors refusing to reveal what they knew — who was the most guilty, who the mastermind was. Was it the contractors themselves? The DPWH? Were senators or members of Congress involved?\\\\n\\\\nAmong them were Ms. Discaya and\\\\n\\\\n*Wawao Builders\\\\' Mr. Arevalo — who said, \\\"I invoke my right against self-incrimination\\\" — couldn\\\\'t face the senators .\\\".*\\\\n\\\\nThe Senate Blue Ribbon Committee announced that anyone who testifies under oath to reveal their knowledge of the corruption may be considered for application as a state witness, in order to protect them.\\\\n\\\\nOn **September 8, 2025**, during the second hearing, the Discayas publicly revealed what they claimed was personal knowledge of corruption and possible masterminds behind flood control projects. In exchange, they sought to be considered as **state witnesses**. They named high-profile figures, including **House Representative Zaldy Co** and **House Speaker Martin Romualdez**.'}, {'score': 0.5063723, 'content': '### **The Discaya Revelations**\\\\n\\\\n**On September 1, 2025,** the first Blue Ribbon hearing ended with several contractors refusing to reveal what they knew — who was the most guilty, who the mastermind was. Was it the contractors themselves? The DPWH? Were senators or members of Congress involved?\\\\n\\\\nAmong them were Ms. Discaya and\\\\n\\\\n*Wawao Builders\\\\' Mr. Arevalo — who said, \\\"I invoke my right against self-incrimination\\\" — couldn\\\\'t face the senators .\\\".*\\\\n\\\\nThe Senate Blue Ribbon Committee announced that anyone who testifies under oath to reveal their knowledge of the corruption may be considered for application as a state witness, in order to protect them.\\\\n\\\\nOn **September 8, 2025**, during the second hearing, the Discayas publicly revealed what they claimed was personal knowledge of corruption and possible masterminds behind flood control projects. In exchange, they sought to be considered as **state witnesses**. They named high-profile figures, including **House Representative Zaldy Co** and **House Speaker Martin Romualdez**.'}, {'score': 0.5063723, 'content': '### **The Discaya Revelations**\\\\n\\\\n**On September 1, 2025,** the first Blue Ribbon hearing ended with several contractors refusing to reveal what they knew — who was the most guilty, who the mastermind was. Was it the contractors themselves? The DPWH? Were senators or members of Congress involved?\\\\n\\\\nAmong them were Ms. Discaya and\\\\n\\\\n*Wawao Builders\\\\' Mr. Arevalo — who said, \\\"I invoke my right against self-incrimination\\\" — couldn\\\\'t face the senators .\\\".*\\\\n\\\\nThe Senate Blue Ribbon Committee announced that anyone who testifies under oath to reveal their knowledge of the corruption may be considered for application as a state witness, in order to protect them.\\\\n\\\\nOn **September 8, 2025**, during the second hearing, the Discayas publicly revealed what they claimed was personal knowledge of corruption and possible masterminds behind flood control projects. In exchange, they sought to be considered as **state witnesses**. They named high-profile figures, including **House Representative Zaldy Co** and **House Speaker Martin Romualdez**.'}]\",\n",
    "      \"additional_kwargs\": {},\n",
    "      \"response_metadata\": {},\n",
    "      \"type\": \"tool\",\n",
    "      \"name\": \"build_pinecone_retriever\",\n",
    "      \"id\": \"abdef342-894e-41e5-bc48-6fe2b8a3bfbd\",\n",
    "      \"tool_call_id\": \"call_visZELlAiuhc08jsTAgONjGN\",\n",
    "      \"artifact\": 'null',\n",
    "      \"status\": \"success\"\n",
    "    },\n",
    "    {\n",
    "      \"content\": \"The Discaya Revelations refer to the testimony of Ms. Discaya and her husband during the Senate Blue Ribbon Committee hearings on September 1 and 8, 2025. They revealed their personal knowledge of corruption and possible masterminds behind flood control projects, naming high-profile figures such as House Representative Zaldy Co and House Speaker Martin Romualdez. In exchange for their testimony, they sought to be considered as state witnesses.\",\n",
    "      \"additional_kwargs\": {},\n",
    "      \"response_metadata\": {\n",
    "        \"token_usage\": {\n",
    "          \"prompt_tokens\": 1451,\n",
    "          \"total_tokens\": 1539,\n",
    "          \"completion_tokens\": 88,\n",
    "          \"estimated_cost\": 0.0006156,\n",
    "          \"prompt_tokens_details\": 'null'\n",
    "        },\n",
    "        \"model\": \"meta-llama/Meta-Llama-3.1-70B-Instruct\",\n",
    "        \"finish_reason\": \"stop\"\n",
    "      },\n",
    "      \"type\": \"ai\",\n",
    "      \"name\": 'null'\n",
    "    #   \"id\": \"run--f1ad0c85-c926-4f6d-a922-3c9e4dee3fae-0\",\n",
    "    #   \"example\": false,\n",
    "    #   \"tool_calls\": [],\n",
    "    #   \"invalid_tool_calls\": [],\n",
    "    #   \"usage_metadata\": 'null'\n",
    "    }\n",
    "  ]\n",
    "}"
   ]
  },
  {
   "cell_type": "code",
   "execution_count": 26,
   "id": "898cae19",
   "metadata": {},
   "outputs": [
    {
     "data": {
      "text/plain": [
       "{'content': '[{\\'score\\': 0.5063723, \\'content\\': \\'### **The Discaya Revelations**\\\\n\\\\n**On September 1, 2025,** the first Blue Ribbon hearing ended with several contractors refusing to reveal what they knew — who was the most guilty, who the mastermind was. Was it the contractors themselves? The DPWH? Were senators or members of Congress involved?\\\\n\\\\nAmong them were Ms. Discaya and\\\\n\\\\n*Wawao Builders\\\\\\' Mr. Arevalo — who said, \"I invoke my right against self-incrimination\" — couldn\\\\\\'t face the senators .\".*\\\\n\\\\nThe Senate Blue Ribbon Committee announced that anyone who testifies under oath to reveal their knowledge of the corruption may be considered for application as a state witness, in order to protect them.\\\\n\\\\nOn **September 8, 2025**, during the second hearing, the Discayas publicly revealed what they claimed was personal knowledge of corruption and possible masterminds behind flood control projects. In exchange, they sought to be considered as **state witnesses**. They named high-profile figures, including **House Representative Zaldy Co** and **House Speaker Martin Romualdez**.\\'}, {\\'score\\': 0.5063723, \\'content\\': \\'### **The Discaya Revelations**\\\\n\\\\n**On September 1, 2025,** the first Blue Ribbon hearing ended with several contractors refusing to reveal what they knew — who was the most guilty, who the mastermind was. Was it the contractors themselves? The DPWH? Were senators or members of Congress involved?\\\\n\\\\nAmong them were Ms. Discaya and\\\\n\\\\n*Wawao Builders\\\\\\' Mr. Arevalo — who said, \"I invoke my right against self-incrimination\" — couldn\\\\\\'t face the senators .\".*\\\\n\\\\nThe Senate Blue Ribbon Committee announced that anyone who testifies under oath to reveal their knowledge of the corruption may be considered for application as a state witness, in order to protect them.\\\\n\\\\nOn **September 8, 2025**, during the second hearing, the Discayas publicly revealed what they claimed was personal knowledge of corruption and possible masterminds behind flood control projects. In exchange, they sought to be considered as **state witnesses**. They named high-profile figures, including **House Representative Zaldy Co** and **House Speaker Martin Romualdez**.\\'}, {\\'score\\': 0.5063723, \\'content\\': \\'### **The Discaya Revelations**\\\\n\\\\n**On September 1, 2025,** the first Blue Ribbon hearing ended with several contractors refusing to reveal what they knew — who was the most guilty, who the mastermind was. Was it the contractors themselves? The DPWH? Were senators or members of Congress involved?\\\\n\\\\nAmong them were Ms. Discaya and\\\\n\\\\n*Wawao Builders\\\\\\' Mr. Arevalo — who said, \"I invoke my right against self-incrimination\" — couldn\\\\\\'t face the senators .\".*\\\\n\\\\nThe Senate Blue Ribbon Committee announced that anyone who testifies under oath to reveal their knowledge of the corruption may be considered for application as a state witness, in order to protect them.\\\\n\\\\nOn **September 8, 2025**, during the second hearing, the Discayas publicly revealed what they claimed was personal knowledge of corruption and possible masterminds behind flood control projects. In exchange, they sought to be considered as **state witnesses**. They named high-profile figures, including **House Representative Zaldy Co** and **House Speaker Martin Romualdez**.\\'}]',\n",
       " 'additional_kwargs': {},\n",
       " 'response_metadata': {},\n",
       " 'type': 'tool',\n",
       " 'name': 'build_pinecone_retriever',\n",
       " 'id': 'abdef342-894e-41e5-bc48-6fe2b8a3bfbd',\n",
       " 'tool_call_id': 'call_visZELlAiuhc08jsTAgONjGN',\n",
       " 'artifact': 'null',\n",
       " 'status': 'success'}"
      ]
     },
     "execution_count": 26,
     "metadata": {},
     "output_type": "execute_result"
    }
   ],
   "source": [
    "response['messages'][2]"
   ]
  },
  {
   "cell_type": "code",
   "execution_count": 55,
   "id": "adc2d6c9",
   "metadata": {},
   "outputs": [],
   "source": [
    "from typing import List, Tuple, Any, Dict\n",
    "def extract_tool_messages(response) -> List[Dict[str, Any]]:\n",
    "    out: List[Dict[str, Any]] = []\n",
    "    for m in response.get(\"messages\", []):\n",
    "        if isinstance(m, dict) and m.get(\"type\") == \"tool\":\n",
    "            tool_name = m.get(\"name\", \"unknown_tool\")\n",
    "            tool_content = m.get(\"content\", \"\")\n",
    "            out.append({'tool_name': tool_name, 'tool_info':tool_content})\n",
    "    return out"
   ]
  },
  {
   "cell_type": "code",
   "execution_count": 56,
   "id": "0a0eec70",
   "metadata": {},
   "outputs": [
    {
     "data": {
      "text/plain": [
       "[{'tool_name': 'build_pinecone_retriever',\n",
       "  'tool_info': '[{\\'score\\': 0.5063723, \\'content\\': \\'### **The Discaya Revelations**\\\\n\\\\n**On September 1, 2025,** the first Blue Ribbon hearing ended with several contractors refusing to reveal what they knew — who was the most guilty, who the mastermind was. Was it the contractors themselves? The DPWH? Were senators or members of Congress involved?\\\\n\\\\nAmong them were Ms. Discaya and\\\\n\\\\n*Wawao Builders\\\\\\' Mr. Arevalo — who said, \"I invoke my right against self-incrimination\" — couldn\\\\\\'t face the senators .\".*\\\\n\\\\nThe Senate Blue Ribbon Committee announced that anyone who testifies under oath to reveal their knowledge of the corruption may be considered for application as a state witness, in order to protect them.\\\\n\\\\nOn **September 8, 2025**, during the second hearing, the Discayas publicly revealed what they claimed was personal knowledge of corruption and possible masterminds behind flood control projects. In exchange, they sought to be considered as **state witnesses**. They named high-profile figures, including **House Representative Zaldy Co** and **House Speaker Martin Romualdez**.\\'}, {\\'score\\': 0.5063723, \\'content\\': \\'### **The Discaya Revelations**\\\\n\\\\n**On September 1, 2025,** the first Blue Ribbon hearing ended with several contractors refusing to reveal what they knew — who was the most guilty, who the mastermind was. Was it the contractors themselves? The DPWH? Were senators or members of Congress involved?\\\\n\\\\nAmong them were Ms. Discaya and\\\\n\\\\n*Wawao Builders\\\\\\' Mr. Arevalo — who said, \"I invoke my right against self-incrimination\" — couldn\\\\\\'t face the senators .\".*\\\\n\\\\nThe Senate Blue Ribbon Committee announced that anyone who testifies under oath to reveal their knowledge of the corruption may be considered for application as a state witness, in order to protect them.\\\\n\\\\nOn **September 8, 2025**, during the second hearing, the Discayas publicly revealed what they claimed was personal knowledge of corruption and possible masterminds behind flood control projects. In exchange, they sought to be considered as **state witnesses**. They named high-profile figures, including **House Representative Zaldy Co** and **House Speaker Martin Romualdez**.\\'}, {\\'score\\': 0.5063723, \\'content\\': \\'### **The Discaya Revelations**\\\\n\\\\n**On September 1, 2025,** the first Blue Ribbon hearing ended with several contractors refusing to reveal what they knew — who was the most guilty, who the mastermind was. Was it the contractors themselves? The DPWH? Were senators or members of Congress involved?\\\\n\\\\nAmong them were Ms. Discaya and\\\\n\\\\n*Wawao Builders\\\\\\' Mr. Arevalo — who said, \"I invoke my right against self-incrimination\" — couldn\\\\\\'t face the senators .\".*\\\\n\\\\nThe Senate Blue Ribbon Committee announced that anyone who testifies under oath to reveal their knowledge of the corruption may be considered for application as a state witness, in order to protect them.\\\\n\\\\nOn **September 8, 2025**, during the second hearing, the Discayas publicly revealed what they claimed was personal knowledge of corruption and possible masterminds behind flood control projects. In exchange, they sought to be considered as **state witnesses**. They named high-profile figures, including **House Representative Zaldy Co** and **House Speaker Martin Romualdez**.\\'}]'}]"
      ]
     },
     "execution_count": 56,
     "metadata": {},
     "output_type": "execute_result"
    }
   ],
   "source": [
    "extract_tool_messages(response)"
   ]
  },
  {
   "cell_type": "code",
   "execution_count": null,
   "id": "73447604",
   "metadata": {},
   "outputs": [],
   "source": [
    "[{'score': 0.75027883, 'content': '### **The Brice Hernandez Case**\\n\\nFollowing the Senate hearing, House Speaker **Romualdez** asked the new Senate President, **Sotto**, to turn over **Brice Hernandez** to Congress for their own investigation.\\n\\nIn Congress, Brice Hernandez escalated matters by claiming that even senators, specifically **Jinggoy Estrada** and **Joel Villanueva** , were involved in the corruption scheme.\\n\\n*Brice Hernadez said: \"Akala niya ligtas na sya\" to Senator Jinggoy Estrada*\\n\\nHe also said his life would be in danger if he remained under Senate custody.\\n\\nPublic opinion was divided: some believed Hernandez\\'s claims, while others saw them as a script planted by Congress.\\n\\nLater, Congress Chairman **Ridon** suggested considering Hernandez as a state witness. (Despite his questionable record and alleged misuse of millions in taxpayers\\' money through gambling. )\\n\\n**Hon. Marculeta** and Senator **Bato Dela Rosa** questioned Senate President Sotto\\'s actions regarding handling Hernandez to the congress without notifying the Senate team,\\n\\n*explaining that in past events, Congress had detained suspects in contempt and allegedly planted evidence or scripted testimonies in exchange for favors.*\\n\\nFor this reason, they decided to place Hernandez in **jail**, rather than in Senate or House custody.\\n\\nOn **September 10, 2025**, **Mr. Brice Hernandez** was officially jailed, not placed under the custody of either the Senate or Congress. His detention drew public sympathy and debate. Many questioned why he was behind bars while his superior, **Mr. Alcantara**, was not.'}, {'score': 0.75027883, 'content': '### **The Brice Hernandez Case**\\n\\nFollowing the Senate hearing, House Speaker **Romualdez** asked the new Senate President, **Sotto**, to turn over **Brice Hernandez** to Congress for their own investigation.\\n\\nIn Congress, Brice Hernandez escalated matters by claiming that even senators, specifically **Jinggoy Estrada** and **Joel Villanueva** , were involved in the corruption scheme.\\n\\n*Brice Hernadez said: \"Akala niya ligtas na sya\" to Senator Jinggoy Estrada*\\n\\nHe also said his life would be in danger if he remained under Senate custody.\\n\\nPublic opinion was divided: some believed Hernandez\\'s claims, while others saw them as a script planted by Congress.\\n\\nLater, Congress Chairman **Ridon** suggested considering Hernandez as a state witness. (Despite his questionable record and alleged misuse of millions in taxpayers\\' money through gambling. )\\n\\n**Hon. Marculeta** and Senator **Bato Dela Rosa** questioned Senate President Sotto\\'s actions regarding handling Hernandez to the congress without notifying the Senate team,\\n\\n*explaining that in past events, Congress had detained suspects in contempt and allegedly planted evidence or scripted testimonies in exchange for favors.*\\n\\nFor this reason, they decided to place Hernandez in **jail**, rather than in Senate or House custody.\\n\\nOn **September 10, 2025**, **Mr. Brice Hernandez** was officially jailed, not placed under the custody of either the Senate or Congress. His detention drew public sympathy and debate. Many questioned why he was behind bars while his superior, **Mr. Alcantara**, was not.'}, {'score': 0.75027883, 'content': '### **The Brice Hernandez Case**\\n\\nFollowing the Senate hearing, House Speaker **Romualdez** asked the new Senate President, **Sotto**, to turn over **Brice Hernandez** to Congress for their own investigation.\\n\\nIn Congress, Brice Hernandez escalated matters by claiming that even senators, specifically **Jinggoy Estrada** and **Joel Villanueva** , were involved in the corruption scheme.\\n\\n*Brice Hernadez said: \"Akala niya ligtas na sya\" to Senator Jinggoy Estrada*\\n\\nHe also said his life would be in danger if he remained under Senate custody.\\n\\nPublic opinion was divided: some believed Hernandez\\'s claims, while others saw them as a script planted by Congress.\\n\\nLater, Congress Chairman **Ridon** suggested considering Hernandez as a state witness. (Despite his questionable record and alleged misuse of millions in taxpayers\\' money through gambling. )\\n\\n**Hon. Marculeta** and Senator **Bato Dela Rosa** questioned Senate President Sotto\\'s actions regarding handling Hernandez to the congress without notifying the Senate team,\\n\\n*explaining that in past events, Congress had detained suspects in contempt and allegedly planted evidence or scripted testimonies in exchange for favors.*\\n\\nFor this reason, they decided to place Hernandez in **jail**, rather than in Senate or House custody.\\n\\nOn **September 10, 2025**, **Mr. Brice Hernandez** was officially jailed, not placed under the custody of either the Senate or Congress. His detention drew public sympathy and debate. Many questioned why he was behind bars while his superior, **Mr. Alcantara**, was not.'}]"
   ]
  }
 ],
 "metadata": {
  "kernelspec": {
   "display_name": "rag-082025",
   "language": "python",
   "name": "python3"
  },
  "language_info": {
   "codemirror_mode": {
    "name": "ipython",
    "version": 3
   },
   "file_extension": ".py",
   "mimetype": "text/x-python",
   "name": "python",
   "nbconvert_exporter": "python",
   "pygments_lexer": "ipython3",
   "version": "3.12.11"
  }
 },
 "nbformat": 4,
 "nbformat_minor": 5
}
